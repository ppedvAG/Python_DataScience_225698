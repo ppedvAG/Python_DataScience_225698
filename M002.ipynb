{
 "cells": [
  {
   "cell_type": "markdown",
   "id": "141c7b72-f884-4d60-b766-58d3d19548ee",
   "metadata": {},
   "source": [
    "## Numpy\n",
    "\n",
    "Ermöglicht uns, Arrays zu erstellen mit mit C-basiert Zahlen gefüllt sind anstatt mit Objekten\n",
    "\n",
    "Muss installiert werden und importiert werden"
   ]
  },
  {
   "cell_type": "code",
   "execution_count": 1,
   "id": "38adbf22-a365-4f77-8ffb-81f3768df683",
   "metadata": {
    "tags": []
   },
   "outputs": [],
   "source": [
    "import numpy as np"
   ]
  },
  {
   "cell_type": "markdown",
   "id": "adbe5b92-44e3-4dd4-94c4-05b24fa740e3",
   "metadata": {},
   "source": [
    "## Arrays\n",
    "\n",
    "Numpy Arrays aus einer Python Liste erzeugen"
   ]
  },
  {
   "cell_type": "code",
   "execution_count": 2,
   "id": "a0051524-6a39-497b-bb6b-2997022d0571",
   "metadata": {
    "tags": []
   },
   "outputs": [
    {
     "data": {
      "text/plain": [
       "array([1, 2, 3, 4])"
      ]
     },
     "execution_count": 2,
     "metadata": {},
     "output_type": "execute_result"
    }
   ],
   "source": [
    "np.array([1, 2, 3, 4])"
   ]
  },
  {
   "cell_type": "code",
   "execution_count": 3,
   "id": "9e629ac8-be17-4582-8710-aae50efd2602",
   "metadata": {
    "tags": []
   },
   "outputs": [],
   "source": [
    "a = np.array([1, 2, 3, 4])  # int Array"
   ]
  },
  {
   "cell_type": "code",
   "execution_count": 4,
   "id": "f893413b-7429-47ec-8dbf-4ca8c1c181ef",
   "metadata": {
    "tags": []
   },
   "outputs": [
    {
     "data": {
      "text/plain": [
       "dtype('int32')"
      ]
     },
     "execution_count": 4,
     "metadata": {},
     "output_type": "execute_result"
    }
   ],
   "source": [
    "a.dtype"
   ]
  },
  {
   "cell_type": "code",
   "execution_count": 5,
   "id": "dc83f7d7-0dc7-4086-8637-3084f387a0ca",
   "metadata": {
    "tags": []
   },
   "outputs": [],
   "source": [
    "b = np.array([0.5, 1.2, 2.53, 9.22])"
   ]
  },
  {
   "cell_type": "code",
   "execution_count": 6,
   "id": "3461cab8-3a0f-472d-a205-0a104299dedd",
   "metadata": {
    "tags": []
   },
   "outputs": [
    {
     "data": {
      "text/plain": [
       "array([0.5 , 1.2 , 2.53, 9.22])"
      ]
     },
     "execution_count": 6,
     "metadata": {},
     "output_type": "execute_result"
    }
   ],
   "source": [
    "b"
   ]
  },
  {
   "cell_type": "code",
   "execution_count": 7,
   "id": "65efd14e-f40d-4d74-8643-80ba61b4e777",
   "metadata": {
    "tags": []
   },
   "outputs": [
    {
     "data": {
      "text/plain": [
       "(1.2, 2.53)"
      ]
     },
     "execution_count": 7,
     "metadata": {},
     "output_type": "execute_result"
    }
   ],
   "source": [
    "b[1], b[2]"
   ]
  },
  {
   "cell_type": "code",
   "execution_count": 8,
   "id": "75b1fcc3-9b19-4ed9-b318-878b00bfc02f",
   "metadata": {
    "tags": []
   },
   "outputs": [
    {
     "data": {
      "text/plain": [
       "dtype('float64')"
      ]
     },
     "execution_count": 8,
     "metadata": {},
     "output_type": "execute_result"
    }
   ],
   "source": [
    "b.dtype"
   ]
  },
  {
   "cell_type": "markdown",
   "id": "523d8aae-7cd2-4c46-be36-b13d701b72c7",
   "metadata": {},
   "source": [
    "a: int32, b: float64 -> möglicherweise ineffizient\n",
    "\n",
    "Nachdem Numpy in C geschrieben ist, sind effiziente Typen möglich"
   ]
  },
  {
   "cell_type": "code",
   "execution_count": 9,
   "id": "7218fa31-8f57-4750-b34b-ad1297de52d3",
   "metadata": {
    "tags": []
   },
   "outputs": [],
   "source": [
    "c = np.array([1, 2, 3, 4], dtype=np.int8)"
   ]
  },
  {
   "cell_type": "code",
   "execution_count": 10,
   "id": "2a47fd1a-532c-476c-abf4-7c5d31594a46",
   "metadata": {
    "tags": []
   },
   "outputs": [
    {
     "data": {
      "text/plain": [
       "array([1, 2, 3, 4], dtype=int8)"
      ]
     },
     "execution_count": 10,
     "metadata": {},
     "output_type": "execute_result"
    }
   ],
   "source": [
    "c"
   ]
  },
  {
   "cell_type": "code",
   "execution_count": 11,
   "id": "0c9d0afd-31d6-475b-bcdd-c0fc4d0dfb1b",
   "metadata": {
    "tags": []
   },
   "outputs": [
    {
     "data": {
      "text/plain": [
       "dtype('int8')"
      ]
     },
     "execution_count": 11,
     "metadata": {},
     "output_type": "execute_result"
    }
   ],
   "source": [
    "c.dtype"
   ]
  },
  {
   "cell_type": "markdown",
   "id": "533b97bd-002e-45cb-b62a-6c72da597879",
   "metadata": {},
   "source": [
    "## Matrizen\n",
    "\n",
    "Matrizen werden auch oft benötigt in wissenschaftlichen Berechnungen\n",
    "\n",
    "Ein Datenset ist effektiv eine Matrix (Tabelle)"
   ]
  },
  {
   "cell_type": "code",
   "execution_count": 12,
   "id": "240bbcb3-827f-42ab-86f9-36c323d5fc5f",
   "metadata": {
    "tags": []
   },
   "outputs": [
    {
     "data": {
      "text/plain": [
       "array([[1, 2, 3],\n",
       "       [4, 5, 6],\n",
       "       [7, 8, 9]])"
      ]
     },
     "execution_count": 12,
     "metadata": {},
     "output_type": "execute_result"
    }
   ],
   "source": [
    "m = np.array(  # wichtig: Klammer auf der selben Zeile\n",
    "    [\n",
    "        [1, 2, 3],\n",
    "        [4, 5, 6],\n",
    "        [7, 8, 9]\n",
    "    ]\n",
    ")\n",
    "m"
   ]
  },
  {
   "cell_type": "code",
   "execution_count": 13,
   "id": "ca9a54c9-33a8-4183-892f-459b0823d45e",
   "metadata": {
    "tags": []
   },
   "outputs": [
    {
     "data": {
      "text/plain": [
       "(3, 3)"
      ]
     },
     "execution_count": 13,
     "metadata": {},
     "output_type": "execute_result"
    }
   ],
   "source": [
    "m.shape  # Form (hier 3,3)"
   ]
  },
  {
   "cell_type": "code",
   "execution_count": 14,
   "id": "008e1217-3a5d-4fb8-b435-2c66046ed61c",
   "metadata": {
    "tags": []
   },
   "outputs": [
    {
     "data": {
      "text/plain": [
       "9"
      ]
     },
     "execution_count": 14,
     "metadata": {},
     "output_type": "execute_result"
    }
   ],
   "source": [
    "m.size  # Gesamtgröße (9)"
   ]
  },
  {
   "cell_type": "code",
   "execution_count": 15,
   "id": "a2afcf4e-dd0d-422b-8f53-16444b09fa7f",
   "metadata": {
    "tags": []
   },
   "outputs": [
    {
     "data": {
      "text/plain": [
       "2"
      ]
     },
     "execution_count": 15,
     "metadata": {},
     "output_type": "execute_result"
    }
   ],
   "source": [
    "m.ndim  # Anzahl Dimensionen (2)"
   ]
  },
  {
   "cell_type": "markdown",
   "id": "84163848-ade6-41bb-b000-7d6a9eb26868",
   "metadata": {},
   "source": [
    "## Matrix angreifen"
   ]
  },
  {
   "cell_type": "code",
   "execution_count": 16,
   "id": "8371af49-cd35-49d0-9fd4-7748f8a80757",
   "metadata": {
    "tags": []
   },
   "outputs": [
    {
     "data": {
      "text/plain": [
       "array([4, 5, 6])"
      ]
     },
     "execution_count": 16,
     "metadata": {},
     "output_type": "execute_result"
    }
   ],
   "source": [
    "m[1]  # \"Der Datensatz an der Zeile 2\""
   ]
  },
  {
   "cell_type": "code",
   "execution_count": 17,
   "id": "8c59f850-e941-4edb-9230-b23c651dcfea",
   "metadata": {
    "tags": []
   },
   "outputs": [
    {
     "data": {
      "text/plain": [
       "5"
      ]
     },
     "execution_count": 17,
     "metadata": {},
     "output_type": "execute_result"
    }
   ],
   "source": [
    "m[1][1]"
   ]
  },
  {
   "cell_type": "code",
   "execution_count": 18,
   "id": "a7ae9ef1-277c-4395-a3f2-997fae5c8742",
   "metadata": {
    "tags": []
   },
   "outputs": [
    {
     "data": {
      "text/plain": [
       "5"
      ]
     },
     "execution_count": 18,
     "metadata": {},
     "output_type": "execute_result"
    }
   ],
   "source": [
    "m[1, 1]  # Selbiges wie oben, nur einfacher"
   ]
  },
  {
   "cell_type": "markdown",
   "id": "23e6da63-4a9a-40d5-8d16-e58e12b71428",
   "metadata": {},
   "source": [
    "## Slicing von Matrizen\n",
    "\n",
    "Mit Doppelpunkt können Bereiche angegeben werden\n",
    "\n",
    "z.B.:\n",
    "\n",
    ":2 = Vom Anfang (0) bis 1 (= 0:2, exklusiv Obergrenze)\n",
    "\n",
    "2: = Von 2 bis zum Ende (inklusive 2)\n",
    "\n",
    ": = Alles\n",
    "\n",
    "1:3 = 1 und 2"
   ]
  },
  {
   "cell_type": "code",
   "execution_count": 19,
   "id": "4c8eb71b-19c9-4d5f-bed2-b6ececc9b206",
   "metadata": {
    "tags": []
   },
   "outputs": [
    {
     "data": {
      "text/plain": [
       "array([[1, 2, 3],\n",
       "       [4, 5, 6],\n",
       "       [7, 8, 9]])"
      ]
     },
     "execution_count": 19,
     "metadata": {},
     "output_type": "execute_result"
    }
   ],
   "source": [
    "m[:]"
   ]
  },
  {
   "cell_type": "code",
   "execution_count": 20,
   "id": "854836d3-cb08-419a-bbfb-b45ce8f7c6c9",
   "metadata": {
    "tags": []
   },
   "outputs": [
    {
     "data": {
      "text/plain": [
       "array([[1, 2, 3],\n",
       "       [4, 5, 6]])"
      ]
     },
     "execution_count": 20,
     "metadata": {},
     "output_type": "execute_result"
    }
   ],
   "source": [
    "m[0:2]  # Liste 0 und 1 aber nicht 2"
   ]
  },
  {
   "cell_type": "code",
   "execution_count": 21,
   "id": "e797e474-1787-4a1e-94a6-f3571f993a81",
   "metadata": {
    "tags": []
   },
   "outputs": [
    {
     "data": {
      "text/plain": [
       "array([2, 5, 8])"
      ]
     },
     "execution_count": 21,
     "metadata": {},
     "output_type": "execute_result"
    }
   ],
   "source": [
    "m[:, 1]  # Mittlere Spalte nehmen"
   ]
  },
  {
   "cell_type": "code",
   "execution_count": 22,
   "id": "b8bbc1da-4d0c-4ff2-8c00-ce13dd9da94f",
   "metadata": {
    "tags": []
   },
   "outputs": [
    {
     "data": {
      "text/plain": [
       "array([[1, 2],\n",
       "       [4, 5],\n",
       "       [7, 8]])"
      ]
     },
     "execution_count": 22,
     "metadata": {},
     "output_type": "execute_result"
    }
   ],
   "source": [
    "m[:, 0:2]  # 2x3 Bereich von Links"
   ]
  },
  {
   "cell_type": "code",
   "execution_count": 23,
   "id": "3d880bbe-cf49-4563-beb0-dffcbfaa2825",
   "metadata": {
    "tags": []
   },
   "outputs": [
    {
     "data": {
      "text/plain": [
       "array([5, 6])"
      ]
     },
     "execution_count": 23,
     "metadata": {},
     "output_type": "execute_result"
    }
   ],
   "source": [
    "m[1, 1:]"
   ]
  },
  {
   "cell_type": "markdown",
   "id": "bcbbb9ec-f518-4e4c-a3e8-99577d16a79a",
   "metadata": {},
   "source": [
    "## Neue Werte eintragen\n",
    "\n",
    "Trägt den Wert bei allen Feldern in der Liste ein, wenn nur ein Index gegeben ist"
   ]
  },
  {
   "cell_type": "code",
   "execution_count": 24,
   "id": "97fac668-01d6-4aa0-b3a9-f1ac98af90c0",
   "metadata": {
    "tags": []
   },
   "outputs": [
    {
     "data": {
      "text/plain": [
       "array([[ 1,  2,  3],\n",
       "       [ 4, 10,  6],\n",
       "       [ 7,  8,  9]])"
      ]
     },
     "execution_count": 24,
     "metadata": {},
     "output_type": "execute_result"
    }
   ],
   "source": [
    "m[1, 1] = 10  # Einzelnen Wert eintragen\n",
    "m"
   ]
  },
  {
   "cell_type": "code",
   "execution_count": 25,
   "id": "caa47ca5-dc59-4437-988c-221698b6ad1d",
   "metadata": {
    "tags": []
   },
   "outputs": [
    {
     "data": {
      "text/plain": [
       "array([[  1,   2,   3],\n",
       "       [100, 100, 100],\n",
       "       [  7,   8,   9]])"
      ]
     },
     "execution_count": 25,
     "metadata": {},
     "output_type": "execute_result"
    }
   ],
   "source": [
    "m[1] = 100  # Ganze Zeile bearbeiten\n",
    "m"
   ]
  },
  {
   "cell_type": "code",
   "execution_count": 26,
   "id": "17300701-642e-41d2-86da-bcf31b9a8761",
   "metadata": {
    "tags": []
   },
   "outputs": [
    {
     "data": {
      "text/plain": [
       "array([[  1,  20,   3],\n",
       "       [100,  20, 100],\n",
       "       [  7,  20,   9]])"
      ]
     },
     "execution_count": 26,
     "metadata": {},
     "output_type": "execute_result"
    }
   ],
   "source": [
    "m[:, 1] = 20  # Ganze Spalte bearbeiten\n",
    "m"
   ]
  },
  {
   "cell_type": "markdown",
   "id": "83b4e14a-4fe8-40ac-b53c-c922a99d7f8b",
   "metadata": {},
   "source": [
    "## Einfache Analyse von Arrays und Matrizen\n",
    "\n",
    "Arrays:"
   ]
  },
  {
   "cell_type": "code",
   "execution_count": 27,
   "id": "a331f8f5-3dd8-4903-976d-cd36ebbc2d88",
   "metadata": {
    "tags": []
   },
   "outputs": [
    {
     "data": {
      "text/plain": [
       "10"
      ]
     },
     "execution_count": 27,
     "metadata": {},
     "output_type": "execute_result"
    }
   ],
   "source": [
    "a.sum()"
   ]
  },
  {
   "cell_type": "code",
   "execution_count": 28,
   "id": "79d14869-86d4-4ea3-8ceb-64ca6519e778",
   "metadata": {
    "tags": []
   },
   "outputs": [
    {
     "data": {
      "text/plain": [
       "2.5"
      ]
     },
     "execution_count": 28,
     "metadata": {},
     "output_type": "execute_result"
    }
   ],
   "source": [
    "a.mean()"
   ]
  },
  {
   "cell_type": "code",
   "execution_count": 29,
   "id": "cafa4f25-19c5-401e-b301-d37b8c354f12",
   "metadata": {
    "tags": []
   },
   "outputs": [
    {
     "data": {
      "text/plain": [
       "1.118033988749895"
      ]
     },
     "execution_count": 29,
     "metadata": {},
     "output_type": "execute_result"
    }
   ],
   "source": [
    "a.std()"
   ]
  },
  {
   "cell_type": "code",
   "execution_count": 30,
   "id": "7332c066-edc1-43dd-bf4b-ec5912c64851",
   "metadata": {
    "tags": []
   },
   "outputs": [
    {
     "data": {
      "text/plain": [
       "1.25"
      ]
     },
     "execution_count": 30,
     "metadata": {},
     "output_type": "execute_result"
    }
   ],
   "source": [
    "a.var()"
   ]
  },
  {
   "cell_type": "markdown",
   "id": "45fce9d3-95b4-44b1-bb87-c9ea459b6f7d",
   "metadata": {},
   "source": [
    "Matrizen:"
   ]
  },
  {
   "cell_type": "code",
   "execution_count": 32,
   "id": "6b02a712-5e11-4d06-8acb-ab2f7c3fe81b",
   "metadata": {
    "tags": []
   },
   "outputs": [
    {
     "data": {
      "text/plain": [
       "280"
      ]
     },
     "execution_count": 32,
     "metadata": {},
     "output_type": "execute_result"
    }
   ],
   "source": [
    "m.sum()"
   ]
  },
  {
   "cell_type": "code",
   "execution_count": 33,
   "id": "291d10d0-d997-48ca-9e87-c7899ef242d9",
   "metadata": {
    "tags": []
   },
   "outputs": [
    {
     "data": {
      "text/plain": [
       "31.11111111111111"
      ]
     },
     "execution_count": 33,
     "metadata": {},
     "output_type": "execute_result"
    }
   ],
   "source": [
    "m.mean()"
   ]
  },
  {
   "cell_type": "code",
   "execution_count": 34,
   "id": "37b88f2d-2167-40d6-b8ec-4d9bb7eecc2f",
   "metadata": {
    "tags": []
   },
   "outputs": [
    {
     "data": {
      "text/plain": [
       "37.45944308906914"
      ]
     },
     "execution_count": 34,
     "metadata": {},
     "output_type": "execute_result"
    }
   ],
   "source": [
    "m.std()"
   ]
  },
  {
   "cell_type": "code",
   "execution_count": 35,
   "id": "6f712356-7b87-473a-aff8-d5fc5e426355",
   "metadata": {
    "tags": []
   },
   "outputs": [
    {
     "data": {
      "text/plain": [
       "1403.20987654321"
      ]
     },
     "execution_count": 35,
     "metadata": {},
     "output_type": "execute_result"
    }
   ],
   "source": [
    "m.var()"
   ]
  },
  {
   "cell_type": "markdown",
   "id": "86a53be9-40b3-45ba-9c6d-806eca3ff6d7",
   "metadata": {},
   "source": [
    "Auch auf Achsen möglich (Y-Achse, X-Achse)"
   ]
  },
  {
   "cell_type": "code",
   "execution_count": 37,
   "id": "ac3989e3-ce33-4f79-bc19-737ef1008271",
   "metadata": {
    "tags": []
   },
   "outputs": [
    {
     "data": {
      "text/plain": [
       "array([108,  60, 112])"
      ]
     },
     "execution_count": 37,
     "metadata": {},
     "output_type": "execute_result"
    }
   ],
   "source": [
    "m.sum(axis=0)  # 0 = Y-Achse (Senkrecht)"
   ]
  },
  {
   "cell_type": "code",
   "execution_count": 39,
   "id": "8737980a-db78-4ffe-9e76-561b0adc3d1c",
   "metadata": {
    "tags": []
   },
   "outputs": [
    {
     "data": {
      "text/plain": [
       "array([ 24, 220,  36])"
      ]
     },
     "execution_count": 39,
     "metadata": {},
     "output_type": "execute_result"
    }
   ],
   "source": [
    "m.sum(axis=1)  # 1 = X-Achse (Waagrecht)"
   ]
  },
  {
   "cell_type": "code",
   "execution_count": 40,
   "id": "8055683d-8bcd-4e80-9bff-430b061d6437",
   "metadata": {
    "tags": []
   },
   "outputs": [
    {
     "data": {
      "text/plain": [
       "array([ 8.        , 73.33333333, 12.        ])"
      ]
     },
     "execution_count": 40,
     "metadata": {},
     "output_type": "execute_result"
    }
   ],
   "source": [
    "m.mean(axis=1)"
   ]
  },
  {
   "cell_type": "code",
   "execution_count": 41,
   "id": "e8b1e462-ec44-4e63-9e41-66487f1a78de",
   "metadata": {
    "tags": []
   },
   "outputs": [
    {
     "data": {
      "text/plain": [
       "array([ 8.52447457, 37.71236166,  5.71547607])"
      ]
     },
     "execution_count": 41,
     "metadata": {},
     "output_type": "execute_result"
    }
   ],
   "source": [
    "m.std(axis=1)"
   ]
  },
  {
   "cell_type": "code",
   "execution_count": 42,
   "id": "b3adb77f-4ff2-49fb-bd43-eb83559b19b5",
   "metadata": {
    "tags": []
   },
   "outputs": [
    {
     "data": {
      "text/plain": [
       "array([  72.66666667, 1422.22222222,   32.66666667])"
      ]
     },
     "execution_count": 42,
     "metadata": {},
     "output_type": "execute_result"
    }
   ],
   "source": [
    "m.var(axis=1)"
   ]
  },
  {
   "cell_type": "markdown",
   "id": "7284ea32-e825-4dd2-b6de-41250847a187",
   "metadata": {},
   "source": [
    "## Vektorisierung von Arrays\n",
    "\n",
    "Ein gesamtes Array bearbeiten mit einer einzelnen Operation\n",
    "\n",
    "Wichtig: Es kommt bei Vektorisierung ein neues Array zurück, es sei denn es wird mit z.B.: += vektorisiert"
   ]
  },
  {
   "cell_type": "code",
   "execution_count": 44,
   "id": "a9bcf2ec-73c6-4305-8238-eb891b98816e",
   "metadata": {
    "tags": []
   },
   "outputs": [
    {
     "data": {
      "text/plain": [
       "array([0, 1, 2, 3, 4, 5, 6, 7, 8, 9])"
      ]
     },
     "execution_count": 44,
     "metadata": {},
     "output_type": "execute_result"
    }
   ],
   "source": [
    "v = np.arange(10)  # arange(X): generiert ein Array befüllt mit Zahlen von 0 bis X, der erste Parameter kann auch eine Untergrenze darstellen\n",
    "v"
   ]
  },
  {
   "cell_type": "code",
   "execution_count": 46,
   "id": "b89d3b17-35e0-416c-9db5-8add26c0ae1c",
   "metadata": {
    "tags": []
   },
   "outputs": [
    {
     "data": {
      "text/plain": [
       "array([10, 11, 12, 13, 14, 15, 16, 17, 18, 19])"
      ]
     },
     "execution_count": 46,
     "metadata": {},
     "output_type": "execute_result"
    }
   ],
   "source": [
    "v + 10  # Originales Array wurde nicht verändert"
   ]
  },
  {
   "cell_type": "code",
   "execution_count": 47,
   "id": "d564771b-1dfe-4d72-8df8-ef41e7246a1c",
   "metadata": {
    "tags": []
   },
   "outputs": [
    {
     "data": {
      "text/plain": [
       "array([ 0, 10, 20, 30, 40, 50, 60, 70, 80, 90])"
      ]
     },
     "execution_count": 47,
     "metadata": {},
     "output_type": "execute_result"
    }
   ],
   "source": [
    "v * 10"
   ]
  },
  {
   "cell_type": "code",
   "execution_count": 49,
   "id": "a9fcfc16-271b-4323-a899-d1183bc817cc",
   "metadata": {
    "tags": []
   },
   "outputs": [
    {
     "data": {
      "text/plain": [
       "array([ 0,  1,  4,  9, 16, 25, 36, 49, 64, 81])"
      ]
     },
     "execution_count": 49,
     "metadata": {},
     "output_type": "execute_result"
    }
   ],
   "source": [
    "v * v  # ^2 bei jedem Element"
   ]
  },
  {
   "cell_type": "code",
   "execution_count": 50,
   "id": "060c9fa3-72d4-4f98-b740-98aa504fa720",
   "metadata": {
    "tags": []
   },
   "outputs": [],
   "source": [
    "v += 10  # Originales Array verändern"
   ]
  },
  {
   "cell_type": "markdown",
   "id": "2d052870-4002-41ef-8eaa-b9709d24c600",
   "metadata": {},
   "source": [
    "## Boolean Masken\n",
    "\n",
    "Ermöglichen und unsere Daten zu filtern mithilfe von Vektorisierung"
   ]
  },
  {
   "cell_type": "code",
   "execution_count": 55,
   "id": "676d032e-a93c-44df-986c-cc77b50d1e5a",
   "metadata": {
    "tags": []
   },
   "outputs": [],
   "source": [
    "ba = np.arange(10)"
   ]
  },
  {
   "cell_type": "code",
   "execution_count": 56,
   "id": "b1bcb812-f8b1-4240-9b79-f50aff5a9327",
   "metadata": {
    "tags": []
   },
   "outputs": [
    {
     "data": {
      "text/plain": [
       "array([0, 1, 2, 3, 4, 5, 6, 7, 8, 9])"
      ]
     },
     "execution_count": 56,
     "metadata": {},
     "output_type": "execute_result"
    }
   ],
   "source": [
    "ba"
   ]
  },
  {
   "cell_type": "code",
   "execution_count": 57,
   "id": "4011359c-d9b8-4c5a-82d2-e6cbda07df66",
   "metadata": {
    "tags": []
   },
   "outputs": [
    {
     "data": {
      "text/plain": [
       "array([False, False, False, False, False,  True,  True,  True,  True,\n",
       "        True])"
      ]
     },
     "execution_count": 57,
     "metadata": {},
     "output_type": "execute_result"
    }
   ],
   "source": [
    "ba >= 5  # Boolean Array als Ergebnis"
   ]
  },
  {
   "cell_type": "code",
   "execution_count": 59,
   "id": "b9c264be-e7b8-4c0e-8b5c-09ac351e6fab",
   "metadata": {
    "tags": []
   },
   "outputs": [
    {
     "data": {
      "text/plain": [
       "array([5, 6, 7, 8, 9])"
      ]
     },
     "execution_count": 59,
     "metadata": {},
     "output_type": "execute_result"
    }
   ],
   "source": [
    "ba[ba >= 5]  # Vektorisieren mit einem Boolean Array"
   ]
  },
  {
   "cell_type": "code",
   "execution_count": 60,
   "id": "f5049112-bbcc-4e59-9701-44bfdfad3781",
   "metadata": {
    "tags": []
   },
   "outputs": [
    {
     "data": {
      "text/plain": [
       "4.5"
      ]
     },
     "execution_count": 60,
     "metadata": {},
     "output_type": "execute_result"
    }
   ],
   "source": [
    "ba.mean()"
   ]
  },
  {
   "cell_type": "code",
   "execution_count": 63,
   "id": "37a861c2-5270-41f5-9efd-ed9e18ddff49",
   "metadata": {
    "tags": []
   },
   "outputs": [
    {
     "data": {
      "text/plain": [
       "array([0, 1, 2, 3, 4])"
      ]
     },
     "execution_count": 63,
     "metadata": {},
     "output_type": "execute_result"
    }
   ],
   "source": [
    "ba[ba < ba.mean()]"
   ]
  },
  {
   "cell_type": "code",
   "execution_count": 65,
   "id": "1c2a9168-04b1-45d1-9831-2c7acb6b6f61",
   "metadata": {
    "tags": []
   },
   "outputs": [
    {
     "data": {
      "text/plain": [
       "array([5, 6, 7, 8, 9])"
      ]
     },
     "execution_count": 65,
     "metadata": {},
     "output_type": "execute_result"
    }
   ],
   "source": [
    "ba[~(ba < ba.mean())]"
   ]
  },
  {
   "cell_type": "code",
   "execution_count": 69,
   "id": "2a0cb059-43b1-47e2-81ad-1b087711f4e1",
   "metadata": {
    "tags": []
   },
   "outputs": [
    {
     "data": {
      "text/plain": [
       "array([[53, 18, 84, 24, 63, 97, 66,  1, 61, 19],\n",
       "       [71, 74, 69, 24, 88, 88, 66,  2, 77, 56],\n",
       "       [64, 87, 13, 25, 66, 57, 54, 83, 12, 84],\n",
       "       [51, 70, 65,  7, 14, 99, 25, 87, 61, 88],\n",
       "       [29, 97, 97, 78, 52, 53,  2, 13, 62,  2],\n",
       "       [85, 49, 72, 63, 33, 59, 50, 30, 99, 27],\n",
       "       [72,  7, 76, 47, 49, 35, 10, 14, 87, 18],\n",
       "       [ 4,  9, 79, 31,  0, 78, 37,  9, 89,  4],\n",
       "       [20, 24, 28, 41, 52, 17, 88, 15, 82, 80],\n",
       "       [ 7, 78, 74, 32,  1, 19, 48, 11, 53, 43]])"
      ]
     },
     "execution_count": 69,
     "metadata": {},
     "output_type": "execute_result"
    }
   ],
   "source": [
    "r = np.random.randint(100, size=(10, 10))\n",
    "r"
   ]
  },
  {
   "cell_type": "code",
   "execution_count": 72,
   "id": "dca1875c-b4e0-4601-9a6c-54c444f7d4de",
   "metadata": {
    "tags": []
   },
   "outputs": [
    {
     "data": {
      "text/plain": [
       "array([[ True, False,  True, False,  True,  True,  True, False,  True,\n",
       "        False],\n",
       "       [ True,  True,  True, False,  True,  True,  True, False,  True,\n",
       "         True],\n",
       "       [ True,  True, False, False,  True,  True,  True,  True, False,\n",
       "         True],\n",
       "       [ True,  True,  True, False, False,  True, False,  True,  True,\n",
       "         True],\n",
       "       [False,  True,  True,  True,  True,  True, False, False,  True,\n",
       "        False],\n",
       "       [ True, False,  True,  True, False,  True, False, False,  True,\n",
       "        False],\n",
       "       [ True, False,  True, False, False, False, False, False,  True,\n",
       "        False],\n",
       "       [False, False,  True, False, False,  True, False, False,  True,\n",
       "        False],\n",
       "       [False, False, False, False,  True, False,  True, False,  True,\n",
       "         True],\n",
       "       [False,  True,  True, False, False, False, False, False,  True,\n",
       "        False]])"
      ]
     },
     "execution_count": 72,
     "metadata": {},
     "output_type": "execute_result"
    }
   ],
   "source": [
    "r > 50"
   ]
  },
  {
   "cell_type": "code",
   "execution_count": 70,
   "id": "020b6947-5b98-44fb-b5a6-5aa17c5f535b",
   "metadata": {
    "tags": []
   },
   "outputs": [
    {
     "data": {
      "text/plain": [
       "array([53, 84, 63, 97, 66, 61, 71, 74, 69, 88, 88, 66, 77, 56, 64, 87, 66,\n",
       "       57, 54, 83, 84, 51, 70, 65, 99, 87, 61, 88, 97, 97, 78, 52, 53, 62,\n",
       "       85, 72, 63, 59, 99, 72, 76, 87, 79, 78, 89, 52, 88, 82, 80, 78, 74,\n",
       "       53])"
      ]
     },
     "execution_count": 70,
     "metadata": {},
     "output_type": "execute_result"
    }
   ],
   "source": [
    "r[r > 50]"
   ]
  },
  {
   "cell_type": "code",
   "execution_count": 71,
   "id": "f457f3c8-b57e-41e4-8e5f-21b83c730f73",
   "metadata": {
    "tags": []
   },
   "outputs": [
    {
     "data": {
      "text/plain": [
       "52"
      ]
     },
     "execution_count": 71,
     "metadata": {},
     "output_type": "execute_result"
    }
   ],
   "source": [
    "np.count_nonzero(r[r > 50])"
   ]
  },
  {
   "cell_type": "markdown",
   "id": "b09d854b-47c4-40db-b05d-99d318d0d349",
   "metadata": {},
   "source": [
    "## Performance"
   ]
  },
  {
   "cell_type": "code",
   "execution_count": 75,
   "id": "6ba49e9b-fd54-4905-8dac-c1736c5e351d",
   "metadata": {
    "tags": []
   },
   "outputs": [],
   "source": [
    "import sys"
   ]
  },
  {
   "cell_type": "code",
   "execution_count": 76,
   "id": "69fce1b6-1438-408f-b51c-7a25a83e9272",
   "metadata": {
    "tags": []
   },
   "outputs": [],
   "source": [
    "x = 5"
   ]
  },
  {
   "cell_type": "code",
   "execution_count": 78,
   "id": "15c6c22f-cb54-423f-ab66-2970834569a7",
   "metadata": {
    "tags": []
   },
   "outputs": [
    {
     "data": {
      "text/plain": [
       "28"
      ]
     },
     "execution_count": 78,
     "metadata": {},
     "output_type": "execute_result"
    }
   ],
   "source": [
    "sys.getsizeof(x)  # 28 Byte für eine Zahl!"
   ]
  },
  {
   "cell_type": "code",
   "execution_count": 79,
   "id": "b09beb8e-bd1b-4202-b3f5-3bf16f344237",
   "metadata": {
    "tags": []
   },
   "outputs": [
    {
     "data": {
      "text/plain": [
       "4"
      ]
     },
     "execution_count": 79,
     "metadata": {},
     "output_type": "execute_result"
    }
   ],
   "source": [
    "np.dtype(int).itemsize"
   ]
  },
  {
   "cell_type": "code",
   "execution_count": 81,
   "id": "638821d9-b1ee-47f9-9064-f309c74c8298",
   "metadata": {
    "tags": []
   },
   "outputs": [
    {
     "data": {
      "text/plain": [
       "1"
      ]
     },
     "execution_count": 81,
     "metadata": {},
     "output_type": "execute_result"
    }
   ],
   "source": [
    "np.dtype(np.int8).itemsize"
   ]
  },
  {
   "cell_type": "code",
   "execution_count": 82,
   "id": "fa206791-eec4-4e45-a166-24756fcfb6dc",
   "metadata": {
    "tags": []
   },
   "outputs": [
    {
     "data": {
      "text/plain": [
       "8"
      ]
     },
     "execution_count": 82,
     "metadata": {},
     "output_type": "execute_result"
    }
   ],
   "source": [
    "np.dtype(float).itemsize"
   ]
  },
  {
   "cell_type": "code",
   "execution_count": 86,
   "id": "13ceffab-347c-49d9-bebc-7d2b86fdf301",
   "metadata": {
    "tags": []
   },
   "outputs": [
    {
     "data": {
      "text/plain": [
       "2"
      ]
     },
     "execution_count": 86,
     "metadata": {},
     "output_type": "execute_result"
    }
   ],
   "source": [
    "np.dtype(np.float16).itemsize"
   ]
  },
  {
   "cell_type": "markdown",
   "id": "8cc9e7bb-dac6-46a8-846f-39f96db383ef",
   "metadata": {},
   "source": [
    "## Performance Listen"
   ]
  },
  {
   "cell_type": "code",
   "execution_count": 87,
   "id": "19a5f93f-5266-483e-838f-5c3dee25165e",
   "metadata": {
    "tags": []
   },
   "outputs": [
    {
     "data": {
      "text/plain": [
       "64"
      ]
     },
     "execution_count": 87,
     "metadata": {},
     "output_type": "execute_result"
    }
   ],
   "source": [
    "sys.getsizeof([1])  # Python Liste mit einer Zahl"
   ]
  },
  {
   "cell_type": "code",
   "execution_count": 92,
   "id": "5cedd930-2254-422a-89fa-2540f1bc8ff4",
   "metadata": {
    "tags": []
   },
   "outputs": [
    {
     "data": {
      "text/plain": [
       "4"
      ]
     },
     "execution_count": 92,
     "metadata": {},
     "output_type": "execute_result"
    }
   ],
   "source": [
    "np.array([1]).nbytes  # Numpy Array mit einer Zahl"
   ]
  },
  {
   "cell_type": "code",
   "execution_count": 93,
   "id": "2880ce44-767f-4153-ad95-b9d66b7f0911",
   "metadata": {
    "tags": []
   },
   "outputs": [
    {
     "data": {
      "text/plain": [
       "4"
      ]
     },
     "execution_count": 93,
     "metadata": {},
     "output_type": "execute_result"
    }
   ],
   "source": [
    "np.array([1, 2, 3, 4], dtype=np.int8).nbytes  # Effizientes Numpy Array"
   ]
  },
  {
   "cell_type": "code",
   "execution_count": 94,
   "id": "57a57434-0c5a-4b87-b97e-32874cf7d166",
   "metadata": {
    "tags": []
   },
   "outputs": [],
   "source": [
    "pList = list(range(10000000))"
   ]
  },
  {
   "cell_type": "code",
   "execution_count": 101,
   "id": "37c1d38f-151a-4bde-93cd-193fd7b99afb",
   "metadata": {
    "tags": []
   },
   "outputs": [],
   "source": [
    "pArray = np.arange(10000000, dtype=np.int64)"
   ]
  },
  {
   "cell_type": "code",
   "execution_count": 96,
   "id": "748744f6-426e-4de4-ba10-6ca2df21eb94",
   "metadata": {
    "tags": []
   },
   "outputs": [
    {
     "name": "stdout",
     "output_type": "stream",
     "text": [
      "CPU times: total: 2.81 s\n",
      "Wall time: 2.8 s\n"
     ]
    },
    {
     "data": {
      "text/plain": [
       "333333283333335000000"
      ]
     },
     "execution_count": 96,
     "metadata": {},
     "output_type": "execute_result"
    }
   ],
   "source": [
    "%time sum([x ** 2 for x in pList])"
   ]
  },
  {
   "cell_type": "code",
   "execution_count": 99,
   "id": "feabb40c-5ff8-47ab-873d-009bebafc6c6",
   "metadata": {
    "tags": []
   },
   "outputs": [
    {
     "name": "stdout",
     "output_type": "stream",
     "text": [
      "CPU times: total: 31.2 ms\n",
      "Wall time: 35 ms\n"
     ]
    },
    {
     "data": {
      "text/plain": [
       "1291890006563070912"
      ]
     },
     "execution_count": 99,
     "metadata": {},
     "output_type": "execute_result"
    }
   ],
   "source": [
    "%time np.sum(pArray ** 2)"
   ]
  },
  {
   "cell_type": "markdown",
   "id": "a87cf4f3-c817-4300-b0d2-d4df0be6d34a",
   "metadata": {},
   "source": [
    "## Andere Funktionen"
   ]
  },
  {
   "cell_type": "code",
   "execution_count": 103,
   "id": "fa0ecf45-6c60-4785-a60c-32a34b0e957b",
   "metadata": {
    "tags": []
   },
   "outputs": [
    {
     "data": {
      "text/plain": [
       "array([[0.29077302, 0.36761791, 0.08426299],\n",
       "       [0.26829774, 0.6495656 , 0.87312229],\n",
       "       [0.58144797, 0.93164078, 0.70585304]])"
      ]
     },
     "execution_count": 103,
     "metadata": {},
     "output_type": "execute_result"
    }
   ],
   "source": [
    "np.random.random(size=(3, 3))  # Kommazahlenarray"
   ]
  },
  {
   "cell_type": "code",
   "execution_count": 106,
   "id": "f969764e-5310-4613-bf1f-193a16faf456",
   "metadata": {
    "tags": []
   },
   "outputs": [
    {
     "data": {
      "text/plain": [
       "array([0. , 0.1, 0.2, 0.3, 0.4, 0.5, 0.6, 0.7, 0.8, 0.9, 1. , 1.1, 1.2,\n",
       "       1.3, 1.4, 1.5, 1.6, 1.7, 1.8, 1.9, 2. , 2.1, 2.2, 2.3, 2.4, 2.5,\n",
       "       2.6, 2.7, 2.8, 2.9, 3. , 3.1, 3.2, 3.3, 3.4, 3.5, 3.6, 3.7, 3.8,\n",
       "       3.9, 4. , 4.1, 4.2, 4.3, 4.4, 4.5, 4.6, 4.7, 4.8, 4.9, 5. , 5.1,\n",
       "       5.2, 5.3, 5.4, 5.5, 5.6, 5.7, 5.8, 5.9, 6. , 6.1, 6.2, 6.3, 6.4,\n",
       "       6.5, 6.6, 6.7, 6.8, 6.9, 7. , 7.1, 7.2, 7.3, 7.4, 7.5, 7.6, 7.7,\n",
       "       7.8, 7.9, 8. , 8.1, 8.2, 8.3, 8.4, 8.5, 8.6, 8.7, 8.8, 8.9, 9. ,\n",
       "       9.1, 9.2, 9.3, 9.4, 9.5, 9.6, 9.7, 9.8, 9.9])"
      ]
     },
     "execution_count": 106,
     "metadata": {},
     "output_type": "execute_result"
    }
   ],
   "source": [
    "np.arange(0, 10, 0.1)  # bei aRange können auch Schritte angegeben werden"
   ]
  },
  {
   "cell_type": "code",
   "execution_count": 110,
   "id": "b3075e62-eb8a-443a-ad23-6a209c51d482",
   "metadata": {
    "tags": []
   },
   "outputs": [
    {
     "data": {
      "text/plain": [
       "array([[ 0,  1,  2],\n",
       "       [ 3,  4,  5],\n",
       "       [ 6,  7,  8],\n",
       "       [ 9, 10, 11],\n",
       "       [12, 13, 14],\n",
       "       [15, 16, 17],\n",
       "       [18, 19, 20],\n",
       "       [21, 22, 23],\n",
       "       [24, 25, 26],\n",
       "       [27, 28, 29],\n",
       "       [30, 31, 32],\n",
       "       [33, 34, 35],\n",
       "       [36, 37, 38],\n",
       "       [39, 40, 41],\n",
       "       [42, 43, 44],\n",
       "       [45, 46, 47],\n",
       "       [48, 49, 50],\n",
       "       [51, 52, 53],\n",
       "       [54, 55, 56],\n",
       "       [57, 58, 59],\n",
       "       [60, 61, 62],\n",
       "       [63, 64, 65],\n",
       "       [66, 67, 68],\n",
       "       [69, 70, 71],\n",
       "       [72, 73, 74],\n",
       "       [75, 76, 77],\n",
       "       [78, 79, 80],\n",
       "       [81, 82, 83],\n",
       "       [84, 85, 86],\n",
       "       [87, 88, 89],\n",
       "       [90, 91, 92],\n",
       "       [93, 94, 95],\n",
       "       [96, 97, 98]])"
      ]
     },
     "execution_count": 110,
     "metadata": {},
     "output_type": "execute_result"
    }
   ],
   "source": [
    "np.arange(99).reshape(33, 3)  # Bringt ein Array in eine neue Form, neue Form muss genau die richtige Anzahl an Feldern haben"
   ]
  },
  {
   "cell_type": "code",
   "execution_count": 115,
   "id": "c93e82a2-99cd-402b-96c5-dd8c090dab37",
   "metadata": {
    "tags": []
   },
   "outputs": [
    {
     "data": {
      "text/plain": [
       "array([1, 2, 3, 4, 5, 6, 7, 8, 9])"
      ]
     },
     "execution_count": 115,
     "metadata": {},
     "output_type": "execute_result"
    }
   ],
   "source": [
    "np.array([[1, 2, 3], [4, 5, 6], [7, 8, 9]]).reshape(-1)"
   ]
  },
  {
   "cell_type": "code",
   "execution_count": 123,
   "id": "7363c781-105f-48cd-bfb1-e4e12a9e513f",
   "metadata": {
    "tags": []
   },
   "outputs": [
    {
     "data": {
      "text/plain": [
       "array([0.  , 0.05, 0.1 , 0.15, 0.2 , 0.25, 0.3 , 0.35, 0.4 , 0.45, 0.5 ,\n",
       "       0.55, 0.6 , 0.65, 0.7 , 0.75, 0.8 , 0.85, 0.9 , 0.95, 1.  ])"
      ]
     },
     "execution_count": 123,
     "metadata": {},
     "output_type": "execute_result"
    }
   ],
   "source": [
    "np.linspace(0, 1, 21)  # Erzeugt ein Array von X bis Y, und fügt Z ELemente dazwischen ein die verteilt sind im Kommazahlenbereich"
   ]
  },
  {
   "cell_type": "code",
   "execution_count": 126,
   "id": "2e295398-cfb6-4309-b198-c6cdb34b1af0",
   "metadata": {
    "tags": []
   },
   "outputs": [
    {
     "data": {
      "text/plain": [
       "dtype('float64')"
      ]
     },
     "execution_count": 126,
     "metadata": {},
     "output_type": "execute_result"
    }
   ],
   "source": [
    "np.linspace(0, 20, 21).dtype"
   ]
  },
  {
   "cell_type": "code",
   "execution_count": 127,
   "id": "8407990c-7834-4df9-abad-b2fa4ed65c97",
   "metadata": {
    "tags": []
   },
   "outputs": [
    {
     "data": {
      "text/plain": [
       "array([ 0,  1,  2,  3,  4,  5,  6,  7,  8,  9, 10, 11, 12, 13, 14, 15, 16,\n",
       "       17, 18, 19, 20])"
      ]
     },
     "execution_count": 127,
     "metadata": {},
     "output_type": "execute_result"
    }
   ],
   "source": [
    "np.linspace(0, 20, 21).astype(int)  # Array schnell konvertieren zu int"
   ]
  },
  {
   "cell_type": "code",
   "execution_count": 129,
   "id": "985b310f-7259-46d5-8a9c-7f86e094b16c",
   "metadata": {
    "tags": []
   },
   "outputs": [
    {
     "data": {
      "text/plain": [
       "array([ 0,  1,  2,  3,  4,  5,  6,  7,  8,  9, 10, 11, 12, 13, 14, 15, 16,\n",
       "       17, 18, 19, 20], dtype=int8)"
      ]
     },
     "execution_count": 129,
     "metadata": {},
     "output_type": "execute_result"
    }
   ],
   "source": [
    "np.linspace(0, 20, 21).astype(np.int8)  # Array schnell konvertieren zu int8"
   ]
  },
  {
   "cell_type": "code",
   "execution_count": 132,
   "id": "c7f7553b-9dc4-430f-9368-b73c5226e038",
   "metadata": {
    "tags": []
   },
   "outputs": [
    {
     "data": {
      "text/plain": [
       "array([0, 0, 0, 0, 0, 0, 1, 1, 1, 1])"
      ]
     },
     "execution_count": 132,
     "metadata": {},
     "output_type": "execute_result"
    }
   ],
   "source": [
    "(np.arange(10) > 5).astype(int)  # Bool Maske zu int Maske konvertieren"
   ]
  },
  {
   "cell_type": "code",
   "execution_count": 133,
   "id": "be10cd37-6ef8-4394-84a6-3e8c0752b92a",
   "metadata": {
    "tags": []
   },
   "outputs": [
    {
     "data": {
      "text/plain": [
       "array([0., 0., 0., 0., 0.])"
      ]
     },
     "execution_count": 133,
     "metadata": {},
     "output_type": "execute_result"
    }
   ],
   "source": [
    "np.zeros(5)"
   ]
  },
  {
   "cell_type": "code",
   "execution_count": 135,
   "id": "90b35cef-fa1a-46e2-9e24-4e9f31a39662",
   "metadata": {
    "tags": []
   },
   "outputs": [
    {
     "data": {
      "text/plain": [
       "array([1., 1., 1., 1., 1.])"
      ]
     },
     "execution_count": 135,
     "metadata": {},
     "output_type": "execute_result"
    }
   ],
   "source": [
    "np.ones(5)"
   ]
  }
 ],
 "metadata": {
  "kernelspec": {
   "display_name": "Python 3 (ipykernel)",
   "language": "python",
   "name": "python3"
  },
  "language_info": {
   "codemirror_mode": {
    "name": "ipython",
    "version": 3
   },
   "file_extension": ".py",
   "mimetype": "text/x-python",
   "name": "python",
   "nbconvert_exporter": "python",
   "pygments_lexer": "ipython3",
   "version": "3.10.6"
  }
 },
 "nbformat": 4,
 "nbformat_minor": 5
}
