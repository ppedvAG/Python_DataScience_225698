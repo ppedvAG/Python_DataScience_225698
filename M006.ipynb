{
 "cells": [
  {
   "cell_type": "markdown",
   "id": "05df3336-fd8c-4dee-9ab1-a5c19b0b6337",
   "metadata": {},
   "source": [
    "## Überwachtes Lernen\n",
    "\n",
    "Daten werden in ein Modell gefüttert, und dieses Modell erzeugt dann eine Vorhersage (Prediction).\n",
    "\n",
    "Diese Vorhersage wird mit den richtigen Daten verglichen und daraus wird eine Genauigkeit (Accuracy) gebildet.\n",
    "\n",
    "Loss: Ergebnis vom Training, dieses Ergebnis wird wieder in das Modell zurück gefüttert um es weiter zu trainieren."
   ]
  },
  {
   "cell_type": "markdown",
   "id": "7cf3dbab-ff8d-4369-83f8-44b2cdb38467",
   "metadata": {
    "tags": []
   },
   "source": [
    "## Datenset\n",
    "\n",
    "Das MAGIC Gamma Telescope Set besteht aus Daten zu Partikeln die das Teleskop treffen. Es gibt dazu einen Rekorder, der die Daten dieser Partikel aufnimmt und speichert. Bei diesen Daten wird zwischen 2 Arten von Partikeln unterschieden:\n",
    "\n",
    "- Gamma Strahlen\n",
    "- Hadronen\n",
    "\n",
    "Bei jedem Datensatz ist beschrieben um welchen Typen es sich handelt (G oder H)\n",
    "\n",
    "Mit diesem Datenset können wir ein Machine Learning Modell schreiben, welches anhand dieser Daten (ohne Informationen über die Art dieses Teilchens) selbstständig erkennt um welche Art von Partikel es sich handelt.\n",
    "\n",
    "- fLength: continuous # major axis of ellipse [mm]\n",
    "- fWidth: continuous # minor axis of ellipse [mm]\n",
    "- fSize: continuous # 10-log of sum of content of all pixels [in #phot]\n",
    "- fConc: continuous # ratio of sum of two highest pixels over fSize [ratio]\n",
    "- fConc1: continuous # ratio of highest pixel over fSize [ratio]\n",
    "- fAsym: continuous # distance from highest pixel to center, projected onto major axis [mm]\n",
    "- fM3Long: continuous # 3rd root of third moment along major axis [mm]\n",
    "- fM3Trans: continuous # 3rd root of third moment along minor axis [mm]\n",
    "- fAlpha: continuous # angle of major axis with vector to origin [deg]\n",
    "- fDist: continuous # distance from origin to center of ellipse [mm]\n",
    "- class: g,h # gamma (signal), hadron (background)"
   ]
  },
  {
   "cell_type": "code",
   "execution_count": 3,
   "id": "59ebaf71-cdb3-430f-b8bd-79d807e3e033",
   "metadata": {
    "tags": []
   },
   "outputs": [],
   "source": [
    "import pandas as pd\n",
    "import matplotlib.pyplot as plt\n",
    "import numpy as np"
   ]
  },
  {
   "cell_type": "code",
   "execution_count": 4,
   "id": "a19e096d-821a-41b2-a5c4-6355fe9ccd81",
   "metadata": {
    "tags": []
   },
   "outputs": [],
   "source": [
    "data = pd.read_csv(\"Data\\MAGIC.csv\")"
   ]
  },
  {
   "cell_type": "code",
   "execution_count": 5,
   "id": "75fb90ec-555d-4584-9cbd-96b80544faf1",
   "metadata": {
    "tags": []
   },
   "outputs": [
    {
     "data": {
      "text/html": [
       "<div>\n",
       "<style scoped>\n",
       "    .dataframe tbody tr th:only-of-type {\n",
       "        vertical-align: middle;\n",
       "    }\n",
       "\n",
       "    .dataframe tbody tr th {\n",
       "        vertical-align: top;\n",
       "    }\n",
       "\n",
       "    .dataframe thead th {\n",
       "        text-align: right;\n",
       "    }\n",
       "</style>\n",
       "<table border=\"1\" class=\"dataframe\">\n",
       "  <thead>\n",
       "    <tr style=\"text-align: right;\">\n",
       "      <th></th>\n",
       "      <th>fLength</th>\n",
       "      <th>fWidth</th>\n",
       "      <th>fSize</th>\n",
       "      <th>fConc</th>\n",
       "      <th>fConc1</th>\n",
       "      <th>fAsym</th>\n",
       "      <th>fM3Long</th>\n",
       "      <th>fM3Trans</th>\n",
       "      <th>fAlpha</th>\n",
       "      <th>fDist</th>\n",
       "      <th>class</th>\n",
       "    </tr>\n",
       "  </thead>\n",
       "  <tbody>\n",
       "    <tr>\n",
       "      <th>0</th>\n",
       "      <td>28.7967</td>\n",
       "      <td>16.0021</td>\n",
       "      <td>2.6449</td>\n",
       "      <td>0.3918</td>\n",
       "      <td>0.1982</td>\n",
       "      <td>27.7004</td>\n",
       "      <td>22.0110</td>\n",
       "      <td>-8.2027</td>\n",
       "      <td>40.0920</td>\n",
       "      <td>81.8828</td>\n",
       "      <td>g</td>\n",
       "    </tr>\n",
       "    <tr>\n",
       "      <th>1</th>\n",
       "      <td>31.6036</td>\n",
       "      <td>11.7235</td>\n",
       "      <td>2.5185</td>\n",
       "      <td>0.5303</td>\n",
       "      <td>0.3773</td>\n",
       "      <td>26.2722</td>\n",
       "      <td>23.8238</td>\n",
       "      <td>-9.9574</td>\n",
       "      <td>6.3609</td>\n",
       "      <td>205.2610</td>\n",
       "      <td>g</td>\n",
       "    </tr>\n",
       "    <tr>\n",
       "      <th>2</th>\n",
       "      <td>162.0520</td>\n",
       "      <td>136.0310</td>\n",
       "      <td>4.0612</td>\n",
       "      <td>0.0374</td>\n",
       "      <td>0.0187</td>\n",
       "      <td>116.7410</td>\n",
       "      <td>-64.8580</td>\n",
       "      <td>-45.2160</td>\n",
       "      <td>76.9600</td>\n",
       "      <td>256.7880</td>\n",
       "      <td>g</td>\n",
       "    </tr>\n",
       "    <tr>\n",
       "      <th>3</th>\n",
       "      <td>23.8172</td>\n",
       "      <td>9.5728</td>\n",
       "      <td>2.3385</td>\n",
       "      <td>0.6147</td>\n",
       "      <td>0.3922</td>\n",
       "      <td>27.2107</td>\n",
       "      <td>-6.4633</td>\n",
       "      <td>-7.1513</td>\n",
       "      <td>10.4490</td>\n",
       "      <td>116.7370</td>\n",
       "      <td>g</td>\n",
       "    </tr>\n",
       "    <tr>\n",
       "      <th>4</th>\n",
       "      <td>75.1362</td>\n",
       "      <td>30.9205</td>\n",
       "      <td>3.1611</td>\n",
       "      <td>0.3168</td>\n",
       "      <td>0.1832</td>\n",
       "      <td>-5.5277</td>\n",
       "      <td>28.5525</td>\n",
       "      <td>21.8393</td>\n",
       "      <td>4.6480</td>\n",
       "      <td>356.4620</td>\n",
       "      <td>g</td>\n",
       "    </tr>\n",
       "    <tr>\n",
       "      <th>...</th>\n",
       "      <td>...</td>\n",
       "      <td>...</td>\n",
       "      <td>...</td>\n",
       "      <td>...</td>\n",
       "      <td>...</td>\n",
       "      <td>...</td>\n",
       "      <td>...</td>\n",
       "      <td>...</td>\n",
       "      <td>...</td>\n",
       "      <td>...</td>\n",
       "      <td>...</td>\n",
       "    </tr>\n",
       "    <tr>\n",
       "      <th>19015</th>\n",
       "      <td>21.3846</td>\n",
       "      <td>10.9170</td>\n",
       "      <td>2.6161</td>\n",
       "      <td>0.5857</td>\n",
       "      <td>0.3934</td>\n",
       "      <td>15.2618</td>\n",
       "      <td>11.5245</td>\n",
       "      <td>2.8766</td>\n",
       "      <td>2.4229</td>\n",
       "      <td>106.8258</td>\n",
       "      <td>h</td>\n",
       "    </tr>\n",
       "    <tr>\n",
       "      <th>19016</th>\n",
       "      <td>28.9452</td>\n",
       "      <td>6.7020</td>\n",
       "      <td>2.2672</td>\n",
       "      <td>0.5351</td>\n",
       "      <td>0.2784</td>\n",
       "      <td>37.0816</td>\n",
       "      <td>13.1853</td>\n",
       "      <td>-2.9632</td>\n",
       "      <td>86.7975</td>\n",
       "      <td>247.4560</td>\n",
       "      <td>h</td>\n",
       "    </tr>\n",
       "    <tr>\n",
       "      <th>19017</th>\n",
       "      <td>75.4455</td>\n",
       "      <td>47.5305</td>\n",
       "      <td>3.4483</td>\n",
       "      <td>0.1417</td>\n",
       "      <td>0.0549</td>\n",
       "      <td>-9.3561</td>\n",
       "      <td>41.0562</td>\n",
       "      <td>-9.4662</td>\n",
       "      <td>30.2987</td>\n",
       "      <td>256.5166</td>\n",
       "      <td>h</td>\n",
       "    </tr>\n",
       "    <tr>\n",
       "      <th>19018</th>\n",
       "      <td>120.5135</td>\n",
       "      <td>76.9018</td>\n",
       "      <td>3.9939</td>\n",
       "      <td>0.0944</td>\n",
       "      <td>0.0683</td>\n",
       "      <td>5.8043</td>\n",
       "      <td>-93.5224</td>\n",
       "      <td>-63.8389</td>\n",
       "      <td>84.6874</td>\n",
       "      <td>408.3166</td>\n",
       "      <td>h</td>\n",
       "    </tr>\n",
       "    <tr>\n",
       "      <th>19019</th>\n",
       "      <td>187.1814</td>\n",
       "      <td>53.0014</td>\n",
       "      <td>3.2093</td>\n",
       "      <td>0.2876</td>\n",
       "      <td>0.1539</td>\n",
       "      <td>-167.3125</td>\n",
       "      <td>-168.4558</td>\n",
       "      <td>31.4755</td>\n",
       "      <td>52.7310</td>\n",
       "      <td>272.3174</td>\n",
       "      <td>h</td>\n",
       "    </tr>\n",
       "  </tbody>\n",
       "</table>\n",
       "<p>19020 rows × 11 columns</p>\n",
       "</div>"
      ],
      "text/plain": [
       "        fLength    fWidth   fSize   fConc  fConc1     fAsym   fM3Long  \\\n",
       "0       28.7967   16.0021  2.6449  0.3918  0.1982   27.7004   22.0110   \n",
       "1       31.6036   11.7235  2.5185  0.5303  0.3773   26.2722   23.8238   \n",
       "2      162.0520  136.0310  4.0612  0.0374  0.0187  116.7410  -64.8580   \n",
       "3       23.8172    9.5728  2.3385  0.6147  0.3922   27.2107   -6.4633   \n",
       "4       75.1362   30.9205  3.1611  0.3168  0.1832   -5.5277   28.5525   \n",
       "...         ...       ...     ...     ...     ...       ...       ...   \n",
       "19015   21.3846   10.9170  2.6161  0.5857  0.3934   15.2618   11.5245   \n",
       "19016   28.9452    6.7020  2.2672  0.5351  0.2784   37.0816   13.1853   \n",
       "19017   75.4455   47.5305  3.4483  0.1417  0.0549   -9.3561   41.0562   \n",
       "19018  120.5135   76.9018  3.9939  0.0944  0.0683    5.8043  -93.5224   \n",
       "19019  187.1814   53.0014  3.2093  0.2876  0.1539 -167.3125 -168.4558   \n",
       "\n",
       "       fM3Trans   fAlpha     fDist class  \n",
       "0       -8.2027  40.0920   81.8828     g  \n",
       "1       -9.9574   6.3609  205.2610     g  \n",
       "2      -45.2160  76.9600  256.7880     g  \n",
       "3       -7.1513  10.4490  116.7370     g  \n",
       "4       21.8393   4.6480  356.4620     g  \n",
       "...         ...      ...       ...   ...  \n",
       "19015    2.8766   2.4229  106.8258     h  \n",
       "19016   -2.9632  86.7975  247.4560     h  \n",
       "19017   -9.4662  30.2987  256.5166     h  \n",
       "19018  -63.8389  84.6874  408.3166     h  \n",
       "19019   31.4755  52.7310  272.3174     h  \n",
       "\n",
       "[19020 rows x 11 columns]"
      ]
     },
     "execution_count": 5,
     "metadata": {},
     "output_type": "execute_result"
    }
   ],
   "source": [
    "data"
   ]
  },
  {
   "cell_type": "markdown",
   "id": "fb309cdd-e282-4581-9758-22d30b4c7ca2",
   "metadata": {},
   "source": [
    "Computer sind nicht sonderlich gut darin, Buchstaben zu verstehen -> Umwandlung zu Zahlen"
   ]
  },
  {
   "cell_type": "code",
   "execution_count": 9,
   "id": "403d4c74-b78f-4297-a3b1-5bc75e73a559",
   "metadata": {
    "tags": []
   },
   "outputs": [],
   "source": [
    "data[\"class\"].unique()\n",
    "\n",
    "data[\"class\"] == \"g\"\n",
    "data[\"class\"] = (data[\"class\"] == \"g\").astype(np.int8)"
   ]
  },
  {
   "cell_type": "code",
   "execution_count": 10,
   "id": "07fa7369-4c7b-42e2-99fb-3de691f39dee",
   "metadata": {
    "tags": []
   },
   "outputs": [
    {
     "data": {
      "text/html": [
       "<div>\n",
       "<style scoped>\n",
       "    .dataframe tbody tr th:only-of-type {\n",
       "        vertical-align: middle;\n",
       "    }\n",
       "\n",
       "    .dataframe tbody tr th {\n",
       "        vertical-align: top;\n",
       "    }\n",
       "\n",
       "    .dataframe thead th {\n",
       "        text-align: right;\n",
       "    }\n",
       "</style>\n",
       "<table border=\"1\" class=\"dataframe\">\n",
       "  <thead>\n",
       "    <tr style=\"text-align: right;\">\n",
       "      <th></th>\n",
       "      <th>fLength</th>\n",
       "      <th>fWidth</th>\n",
       "      <th>fSize</th>\n",
       "      <th>fConc</th>\n",
       "      <th>fConc1</th>\n",
       "      <th>fAsym</th>\n",
       "      <th>fM3Long</th>\n",
       "      <th>fM3Trans</th>\n",
       "      <th>fAlpha</th>\n",
       "      <th>fDist</th>\n",
       "      <th>class</th>\n",
       "    </tr>\n",
       "  </thead>\n",
       "  <tbody>\n",
       "    <tr>\n",
       "      <th>0</th>\n",
       "      <td>28.7967</td>\n",
       "      <td>16.0021</td>\n",
       "      <td>2.6449</td>\n",
       "      <td>0.3918</td>\n",
       "      <td>0.1982</td>\n",
       "      <td>27.7004</td>\n",
       "      <td>22.0110</td>\n",
       "      <td>-8.2027</td>\n",
       "      <td>40.0920</td>\n",
       "      <td>81.8828</td>\n",
       "      <td>1</td>\n",
       "    </tr>\n",
       "    <tr>\n",
       "      <th>1</th>\n",
       "      <td>31.6036</td>\n",
       "      <td>11.7235</td>\n",
       "      <td>2.5185</td>\n",
       "      <td>0.5303</td>\n",
       "      <td>0.3773</td>\n",
       "      <td>26.2722</td>\n",
       "      <td>23.8238</td>\n",
       "      <td>-9.9574</td>\n",
       "      <td>6.3609</td>\n",
       "      <td>205.2610</td>\n",
       "      <td>1</td>\n",
       "    </tr>\n",
       "    <tr>\n",
       "      <th>2</th>\n",
       "      <td>162.0520</td>\n",
       "      <td>136.0310</td>\n",
       "      <td>4.0612</td>\n",
       "      <td>0.0374</td>\n",
       "      <td>0.0187</td>\n",
       "      <td>116.7410</td>\n",
       "      <td>-64.8580</td>\n",
       "      <td>-45.2160</td>\n",
       "      <td>76.9600</td>\n",
       "      <td>256.7880</td>\n",
       "      <td>1</td>\n",
       "    </tr>\n",
       "    <tr>\n",
       "      <th>3</th>\n",
       "      <td>23.8172</td>\n",
       "      <td>9.5728</td>\n",
       "      <td>2.3385</td>\n",
       "      <td>0.6147</td>\n",
       "      <td>0.3922</td>\n",
       "      <td>27.2107</td>\n",
       "      <td>-6.4633</td>\n",
       "      <td>-7.1513</td>\n",
       "      <td>10.4490</td>\n",
       "      <td>116.7370</td>\n",
       "      <td>1</td>\n",
       "    </tr>\n",
       "    <tr>\n",
       "      <th>4</th>\n",
       "      <td>75.1362</td>\n",
       "      <td>30.9205</td>\n",
       "      <td>3.1611</td>\n",
       "      <td>0.3168</td>\n",
       "      <td>0.1832</td>\n",
       "      <td>-5.5277</td>\n",
       "      <td>28.5525</td>\n",
       "      <td>21.8393</td>\n",
       "      <td>4.6480</td>\n",
       "      <td>356.4620</td>\n",
       "      <td>1</td>\n",
       "    </tr>\n",
       "    <tr>\n",
       "      <th>...</th>\n",
       "      <td>...</td>\n",
       "      <td>...</td>\n",
       "      <td>...</td>\n",
       "      <td>...</td>\n",
       "      <td>...</td>\n",
       "      <td>...</td>\n",
       "      <td>...</td>\n",
       "      <td>...</td>\n",
       "      <td>...</td>\n",
       "      <td>...</td>\n",
       "      <td>...</td>\n",
       "    </tr>\n",
       "    <tr>\n",
       "      <th>19015</th>\n",
       "      <td>21.3846</td>\n",
       "      <td>10.9170</td>\n",
       "      <td>2.6161</td>\n",
       "      <td>0.5857</td>\n",
       "      <td>0.3934</td>\n",
       "      <td>15.2618</td>\n",
       "      <td>11.5245</td>\n",
       "      <td>2.8766</td>\n",
       "      <td>2.4229</td>\n",
       "      <td>106.8258</td>\n",
       "      <td>0</td>\n",
       "    </tr>\n",
       "    <tr>\n",
       "      <th>19016</th>\n",
       "      <td>28.9452</td>\n",
       "      <td>6.7020</td>\n",
       "      <td>2.2672</td>\n",
       "      <td>0.5351</td>\n",
       "      <td>0.2784</td>\n",
       "      <td>37.0816</td>\n",
       "      <td>13.1853</td>\n",
       "      <td>-2.9632</td>\n",
       "      <td>86.7975</td>\n",
       "      <td>247.4560</td>\n",
       "      <td>0</td>\n",
       "    </tr>\n",
       "    <tr>\n",
       "      <th>19017</th>\n",
       "      <td>75.4455</td>\n",
       "      <td>47.5305</td>\n",
       "      <td>3.4483</td>\n",
       "      <td>0.1417</td>\n",
       "      <td>0.0549</td>\n",
       "      <td>-9.3561</td>\n",
       "      <td>41.0562</td>\n",
       "      <td>-9.4662</td>\n",
       "      <td>30.2987</td>\n",
       "      <td>256.5166</td>\n",
       "      <td>0</td>\n",
       "    </tr>\n",
       "    <tr>\n",
       "      <th>19018</th>\n",
       "      <td>120.5135</td>\n",
       "      <td>76.9018</td>\n",
       "      <td>3.9939</td>\n",
       "      <td>0.0944</td>\n",
       "      <td>0.0683</td>\n",
       "      <td>5.8043</td>\n",
       "      <td>-93.5224</td>\n",
       "      <td>-63.8389</td>\n",
       "      <td>84.6874</td>\n",
       "      <td>408.3166</td>\n",
       "      <td>0</td>\n",
       "    </tr>\n",
       "    <tr>\n",
       "      <th>19019</th>\n",
       "      <td>187.1814</td>\n",
       "      <td>53.0014</td>\n",
       "      <td>3.2093</td>\n",
       "      <td>0.2876</td>\n",
       "      <td>0.1539</td>\n",
       "      <td>-167.3125</td>\n",
       "      <td>-168.4558</td>\n",
       "      <td>31.4755</td>\n",
       "      <td>52.7310</td>\n",
       "      <td>272.3174</td>\n",
       "      <td>0</td>\n",
       "    </tr>\n",
       "  </tbody>\n",
       "</table>\n",
       "<p>19020 rows × 11 columns</p>\n",
       "</div>"
      ],
      "text/plain": [
       "        fLength    fWidth   fSize   fConc  fConc1     fAsym   fM3Long  \\\n",
       "0       28.7967   16.0021  2.6449  0.3918  0.1982   27.7004   22.0110   \n",
       "1       31.6036   11.7235  2.5185  0.5303  0.3773   26.2722   23.8238   \n",
       "2      162.0520  136.0310  4.0612  0.0374  0.0187  116.7410  -64.8580   \n",
       "3       23.8172    9.5728  2.3385  0.6147  0.3922   27.2107   -6.4633   \n",
       "4       75.1362   30.9205  3.1611  0.3168  0.1832   -5.5277   28.5525   \n",
       "...         ...       ...     ...     ...     ...       ...       ...   \n",
       "19015   21.3846   10.9170  2.6161  0.5857  0.3934   15.2618   11.5245   \n",
       "19016   28.9452    6.7020  2.2672  0.5351  0.2784   37.0816   13.1853   \n",
       "19017   75.4455   47.5305  3.4483  0.1417  0.0549   -9.3561   41.0562   \n",
       "19018  120.5135   76.9018  3.9939  0.0944  0.0683    5.8043  -93.5224   \n",
       "19019  187.1814   53.0014  3.2093  0.2876  0.1539 -167.3125 -168.4558   \n",
       "\n",
       "       fM3Trans   fAlpha     fDist  class  \n",
       "0       -8.2027  40.0920   81.8828      1  \n",
       "1       -9.9574   6.3609  205.2610      1  \n",
       "2      -45.2160  76.9600  256.7880      1  \n",
       "3       -7.1513  10.4490  116.7370      1  \n",
       "4       21.8393   4.6480  356.4620      1  \n",
       "...         ...      ...       ...    ...  \n",
       "19015    2.8766   2.4229  106.8258      0  \n",
       "19016   -2.9632  86.7975  247.4560      0  \n",
       "19017   -9.4662  30.2987  256.5166      0  \n",
       "19018  -63.8389  84.6874  408.3166      0  \n",
       "19019   31.4755  52.7310  272.3174      0  \n",
       "\n",
       "[19020 rows x 11 columns]"
      ]
     },
     "execution_count": 10,
     "metadata": {},
     "output_type": "execute_result"
    }
   ],
   "source": [
    "data"
   ]
  },
  {
   "cell_type": "markdown",
   "id": "b898cc2a-a5e2-495c-a36a-4476ab1c37c4",
   "metadata": {},
   "source": [
    "## Abweichungen finden zwischen den beiden Daten"
   ]
  },
  {
   "cell_type": "code",
   "execution_count": 16,
   "id": "047e7c9e-49d5-42b1-a4d4-f7e12be37c87",
   "metadata": {
    "collapsed": true,
    "jupyter": {
     "outputs_hidden": true
    },
    "tags": []
   },
   "outputs": [
    {
     "data": {
      "image/png": "[encoded data removed]",
      "text/plain": [
       "<Figure size 640x480 with 1 Axes>"
      ]
     },
     "metadata": {},
     "output_type": "display_data"
    },
    {
     "data": {
      "image/png": "[encoded data removed]",
      "text/plain": [
       "<Figure size 640x480 with 1 Axes>"
      ]
     },
     "metadata": {},
     "output_type": "display_data"
    },
    {
     "data": {
      "image/png": "[encoded data removed]",
      "text/plain": [
       "<Figure size 640x480 with 1 Axes>"
      ]
     },
     "metadata": {},
     "output_type": "display_data"
    },
    {
     "data": {
      "image/png": "[encoded data removed]",
      "text/plain": [
       "<Figure size 640x480 with 1 Axes>"
      ]
     },
     "metadata": {},
     "output_type": "display_data"
    },
    {
     "data": {
      "image/png": "[encoded data removed]",
      "text/plain": [
       "<Figure size 640x480 with 1 Axes>"
      ]
     },
     "metadata": {},
     "output_type": "display_data"
    },
    {
     "data": {
      "image/png": "[encoded data removed]",
      "text/plain": [
       "<Figure size 640x480 with 1 Axes>"
      ]
     },
     "metadata": {},
     "output_type": "display_data"
    },
    {
     "data": {
      "image/png": "[encoded data removed]",
      "text/plain": [
       "<Figure size 640x480 with 1 Axes>"
      ]
     },
     "metadata": {},
     "output_type": "display_data"
    },
    {
     "data": {
      "image/png": "[encoded data removed]",
      "text/plain": [
       "<Figure size 640x480 with 1 Axes>"
      ]
     },
     "metadata": {},
     "output_type": "display_data"
    },
    {
     "data": {
      "image/png": "[encoded data removed]",
      "text/plain": [
       "<Figure size 640x480 with 1 Axes>"
      ]
     },
     "metadata": {},
     "output_type": "display_data"
    },
    {
     "data": {
      "image/png": "[encoded data removed]",
      "text/plain": [
       "<Figure size 640x480 with 1 Axes>"
      ]
     },
     "metadata": {},
     "output_type": "display_data"
    },
    {
     "data": {
      "image/png": "[encoded data removed]",
      "text/plain": [
       "<Figure size 640x480 with 1 Axes>"
      ]
     },
     "metadata": {},
     "output_type": "display_data"
    }
   ],
   "source": [
    "for titel in data.columns:\n",
    "    plt.hist(data[data[\"class\"] == 0][titel], alpha=0.7)\n",
    "    plt.hist(data[data[\"class\"] == 1][titel], alpha=0.7)\n",
    "    plt.title(titel)\n",
    "    plt.legend([\"Hadron\", \"Gamma\"])\n",
    "    plt.show()  # Alle Diagramme zeichnen"
   ]
  },
  {
   "cell_type": "markdown",
   "id": "4ad8cbc3-198a-48ef-be40-4f3c46cc8e53",
   "metadata": {},
   "source": [
    "## Daten aufteilen in Trainings-, Validierungs- und Testdatensets\n",
    "\n",
    "Wir benötigen drei Datensets:\n",
    "- Trainingsdaten\n",
    "- Validierungsdaten\n",
    "- Testdaten\n",
    "\n",
    "Dafür können wir das Gesamtset nehmen und in drei Teile aufteilen."
   ]
  },
  {
   "cell_type": "code",
   "execution_count": 22,
   "id": "55a00a91-5f92-4be9-bb5e-d84fd899e604",
   "metadata": {
    "tags": []
   },
   "outputs": [
    {
     "name": "stdout",
     "output_type": "stream",
     "text": [
      "11412\n",
      "3804\n",
      "3804\n"
     ]
    }
   ],
   "source": [
    "training, validierung, test = np.split(data.sample(frac=1), [int(0.6 * len(data)), int(0.8 * len(data))])  # data.sample: Gibt zufällige Datensätze aus\n",
    "print(len(training))\n",
    "print(len(validierung))\n",
    "print(len(test))"
   ]
  },
  {
   "cell_type": "code",
   "execution_count": 29,
   "id": "289026a9-e87a-49b3-980e-3bea1111b735",
   "metadata": {
    "tags": []
   },
   "outputs": [
    {
     "name": "stdout",
     "output_type": "stream",
     "text": [
      "7342\n",
      "4070\n"
     ]
    }
   ],
   "source": [
    "print(len(training[training[\"class\"] == 1]))  # unebene Daten sind unpraktisch für das Training\n",
    "print(len(training[training[\"class\"] == 0]))"
   ]
  },
  {
   "cell_type": "markdown",
   "id": "b2f6174e-c5a0-4424-ac15-82759cffb88f",
   "metadata": {},
   "source": [
    "## Standardisierung der Daten\n",
    "\n",
    "Momentan sind unsere Daten verstreut über das ganze Datenset. Wir müssen daher unsere Daten standardisieren."
   ]
  },
  {
   "cell_type": "code",
   "execution_count": 34,
   "id": "43f2848c-4ccd-4a42-a853-800687926aa4",
   "metadata": {
    "tags": []
   },
   "outputs": [
    {
     "data": {
      "text/html": [
       "<div>\n",
       "<style scoped>\n",
       "    .dataframe tbody tr th:only-of-type {\n",
       "        vertical-align: middle;\n",
       "    }\n",
       "\n",
       "    .dataframe tbody tr th {\n",
       "        vertical-align: top;\n",
       "    }\n",
       "\n",
       "    .dataframe thead th {\n",
       "        text-align: right;\n",
       "    }\n",
       "</style>\n",
       "<table border=\"1\" class=\"dataframe\">\n",
       "  <thead>\n",
       "    <tr style=\"text-align: right;\">\n",
       "      <th></th>\n",
       "      <th>0</th>\n",
       "      <th>1</th>\n",
       "      <th>2</th>\n",
       "      <th>3</th>\n",
       "      <th>4</th>\n",
       "      <th>5</th>\n",
       "      <th>6</th>\n",
       "      <th>7</th>\n",
       "      <th>8</th>\n",
       "      <th>9</th>\n",
       "    </tr>\n",
       "  </thead>\n",
       "  <tbody>\n",
       "    <tr>\n",
       "      <th>11071</th>\n",
       "      <td>-1.079987</td>\n",
       "      <td>-1.061938</td>\n",
       "      <td>-1.765105</td>\n",
       "      <td>1.521420</td>\n",
       "      <td>1.155352</td>\n",
       "      <td>0.237016</td>\n",
       "      <td>-0.147484</td>\n",
       "      <td>0.261232</td>\n",
       "      <td>-0.393601</td>\n",
       "      <td>0.517179</td>\n",
       "    </tr>\n",
       "    <tr>\n",
       "      <th>36</th>\n",
       "      <td>-1.063831</td>\n",
       "      <td>-0.787246</td>\n",
       "      <td>-0.690937</td>\n",
       "      <td>1.610893</td>\n",
       "      <td>1.924857</td>\n",
       "      <td>0.069839</td>\n",
       "      <td>-0.299035</td>\n",
       "      <td>-0.480642</td>\n",
       "      <td>1.766212</td>\n",
       "      <td>-0.781371</td>\n",
       "    </tr>\n",
       "    <tr>\n",
       "      <th>4866</th>\n",
       "      <td>-1.059657</td>\n",
       "      <td>-0.765931</td>\n",
       "      <td>-0.761561</td>\n",
       "      <td>1.387210</td>\n",
       "      <td>0.903956</td>\n",
       "      <td>-0.511492</td>\n",
       "      <td>-0.418696</td>\n",
       "      <td>0.148025</td>\n",
       "      <td>0.572860</td>\n",
       "      <td>-0.611980</td>\n",
       "    </tr>\n",
       "    <tr>\n",
       "      <th>1933</th>\n",
       "      <td>-1.059640</td>\n",
       "      <td>-0.780029</td>\n",
       "      <td>-1.015302</td>\n",
       "      <td>2.119908</td>\n",
       "      <td>2.298797</td>\n",
       "      <td>0.441020</td>\n",
       "      <td>-0.129137</td>\n",
       "      <td>0.365026</td>\n",
       "      <td>0.337608</td>\n",
       "      <td>-0.213315</td>\n",
       "    </tr>\n",
       "    <tr>\n",
       "      <th>6949</th>\n",
       "      <td>-1.051630</td>\n",
       "      <td>-0.764978</td>\n",
       "      <td>-1.108129</td>\n",
       "      <td>2.123182</td>\n",
       "      <td>1.925758</td>\n",
       "      <td>-0.220183</td>\n",
       "      <td>-0.256939</td>\n",
       "      <td>0.517321</td>\n",
       "      <td>1.031094</td>\n",
       "      <td>-0.334451</td>\n",
       "    </tr>\n",
       "    <tr>\n",
       "      <th>...</th>\n",
       "      <td>...</td>\n",
       "      <td>...</td>\n",
       "      <td>...</td>\n",
       "      <td>...</td>\n",
       "      <td>...</td>\n",
       "      <td>...</td>\n",
       "      <td>...</td>\n",
       "      <td>...</td>\n",
       "      <td>...</td>\n",
       "      <td>...</td>\n",
       "    </tr>\n",
       "    <tr>\n",
       "      <th>4685</th>\n",
       "      <td>5.627925</td>\n",
       "      <td>2.024370</td>\n",
       "      <td>1.009970</td>\n",
       "      <td>-1.042206</td>\n",
       "      <td>-0.899064</td>\n",
       "      <td>6.700441</td>\n",
       "      <td>-3.676697</td>\n",
       "      <td>-2.175303</td>\n",
       "      <td>1.129448</td>\n",
       "      <td>-0.877327</td>\n",
       "    </tr>\n",
       "    <tr>\n",
       "      <th>5029</th>\n",
       "      <td>5.659034</td>\n",
       "      <td>6.207859</td>\n",
       "      <td>1.093070</td>\n",
       "      <td>-1.028566</td>\n",
       "      <td>-0.874736</td>\n",
       "      <td>-2.758966</td>\n",
       "      <td>-6.395435</td>\n",
       "      <td>4.911445</td>\n",
       "      <td>0.964487</td>\n",
       "      <td>1.341256</td>\n",
       "    </tr>\n",
       "    <tr>\n",
       "      <th>7227</th>\n",
       "      <td>5.758570</td>\n",
       "      <td>4.548755</td>\n",
       "      <td>1.445135</td>\n",
       "      <td>-0.971827</td>\n",
       "      <td>-0.888251</td>\n",
       "      <td>6.500132</td>\n",
       "      <td>-1.843095</td>\n",
       "      <td>4.038977</td>\n",
       "      <td>2.137342</td>\n",
       "      <td>0.361844</td>\n",
       "    </tr>\n",
       "    <tr>\n",
       "      <th>6578</th>\n",
       "      <td>5.843586</td>\n",
       "      <td>0.870148</td>\n",
       "      <td>1.588710</td>\n",
       "      <td>-1.266980</td>\n",
       "      <td>-1.200919</td>\n",
       "      <td>-7.437729</td>\n",
       "      <td>3.694492</td>\n",
       "      <td>-0.928345</td>\n",
       "      <td>1.663910</td>\n",
       "      <td>-1.449164</td>\n",
       "    </tr>\n",
       "    <tr>\n",
       "      <th>7844</th>\n",
       "      <td>5.884641</td>\n",
       "      <td>2.632180</td>\n",
       "      <td>2.161741</td>\n",
       "      <td>-1.597049</td>\n",
       "      <td>-1.517191</td>\n",
       "      <td>-5.509206</td>\n",
       "      <td>-5.678203</td>\n",
       "      <td>1.522932</td>\n",
       "      <td>0.618244</td>\n",
       "      <td>-0.061713</td>\n",
       "    </tr>\n",
       "  </tbody>\n",
       "</table>\n",
       "<p>11412 rows × 10 columns</p>\n",
       "</div>"
      ],
      "text/plain": [
       "              0         1         2         3         4         5         6  \\\n",
       "11071 -1.079987 -1.061938 -1.765105  1.521420  1.155352  0.237016 -0.147484   \n",
       "36    -1.063831 -0.787246 -0.690937  1.610893  1.924857  0.069839 -0.299035   \n",
       "4866  -1.059657 -0.765931 -0.761561  1.387210  0.903956 -0.511492 -0.418696   \n",
       "1933  -1.059640 -0.780029 -1.015302  2.119908  2.298797  0.441020 -0.129137   \n",
       "6949  -1.051630 -0.764978 -1.108129  2.123182  1.925758 -0.220183 -0.256939   \n",
       "...         ...       ...       ...       ...       ...       ...       ...   \n",
       "4685   5.627925  2.024370  1.009970 -1.042206 -0.899064  6.700441 -3.676697   \n",
       "5029   5.659034  6.207859  1.093070 -1.028566 -0.874736 -2.758966 -6.395435   \n",
       "7227   5.758570  4.548755  1.445135 -0.971827 -0.888251  6.500132 -1.843095   \n",
       "6578   5.843586  0.870148  1.588710 -1.266980 -1.200919 -7.437729  3.694492   \n",
       "7844   5.884641  2.632180  2.161741 -1.597049 -1.517191 -5.509206 -5.678203   \n",
       "\n",
       "              7         8         9  \n",
       "11071  0.261232 -0.393601  0.517179  \n",
       "36    -0.480642  1.766212 -0.781371  \n",
       "4866   0.148025  0.572860 -0.611980  \n",
       "1933   0.365026  0.337608 -0.213315  \n",
       "6949   0.517321  1.031094 -0.334451  \n",
       "...         ...       ...       ...  \n",
       "4685  -2.175303  1.129448 -0.877327  \n",
       "5029   4.911445  0.964487  1.341256  \n",
       "7227   4.038977  2.137342  0.361844  \n",
       "6578  -0.928345  1.663910 -1.449164  \n",
       "7844   1.522932  0.618244 -0.061713  \n",
       "\n",
       "[11412 rows x 10 columns]"
      ]
     },
     "execution_count": 34,
     "metadata": {},
     "output_type": "execute_result"
    }
   ],
   "source": [
    "from sklearn.preprocessing import StandardScaler  # pip install scikit-learn (sklearn ist in scikit-learn enthalten)\n",
    "\n",
    "scaler = StandardScaler()\n",
    "dataToScale = training[training.columns[:-1]].values\n",
    "# pd.DataFrame(dataToScale).sort_values(0)  # Vor Standardisierung\n",
    "dataToScale = scaler.fit_transform(dataToScale)\n",
    "# pd.DataFrame(dataToScale).sort_values(0)  # Nach Standardisierung"
   ]
  },
  {
   "cell_type": "code",
   "execution_count": 45,
   "id": "6f22b2dc-447a-4794-ad60-3163aa23dd12",
   "metadata": {
    "tags": []
   },
   "outputs": [],
   "source": [
    "from imblearn.over_sampling import RandomOverSampler  # pip install imbalanced-learn (kompatibel mit scikit-learn)\n",
    "\n",
    "ros = RandomOverSampler()\n",
    "left, right = ros.fit_resample(dataToScale, training[training.columns[-1]])  # Hier angeben welche Spalte OverSampled werden soll\n",
    "\n",
    "data = np.hstack((left, np.array(right).reshape(-1, 1)))"
   ]
  },
  {
   "cell_type": "code",
   "execution_count": 54,
   "id": "1983796f-049b-4fd1-a8d8-8decf78da359",
   "metadata": {
    "tags": []
   },
   "outputs": [
    {
     "name": "stdout",
     "output_type": "stream",
     "text": [
      "7342\n",
      "7342\n"
     ]
    }
   ],
   "source": [
    "scaledData = pd.DataFrame(data)\n",
    "print(len(scaledData[scaledData[10] == 1]))\n",
    "print(len(scaledData[scaledData[10] == 0]))"
   ]
  },
  {
   "cell_type": "markdown",
   "id": "726a236d-8f28-497a-b62e-a2778b253ace",
   "metadata": {},
   "source": [
    "Die anderen Datensets müssen noch standardisiert werden, dafür macht es Sinn eine Funktion zu schreiben."
   ]
  },
  {
   "cell_type": "code",
   "execution_count": 55,
   "id": "e3117aa0-2f8c-48c3-a5f8-4f8ee7ca8a4a",
   "metadata": {
    "tags": []
   },
   "outputs": [],
   "source": [
    "def scale_dataset(data, oversample=False):\n",
    "    left = data[data.columns[:-1]].values  # Alle Columns außer class\n",
    "    right = data[data.columns[-1]].values  # Nur class\n",
    "    \n",
    "    scaler = StandardScaler()\n",
    "    left = scaler.fit_transform(left)\n",
    "    \n",
    "    if oversample:\n",
    "        ros = RandomOverSampler()\n",
    "        left, right = ros.fit_resample(left, right)\n",
    "        \n",
    "    data = np.hstack((left, np.array(right).reshape(-1, 1)))\n",
    "    \n",
    "    return data, left, right"
   ]
  },
  {
   "cell_type": "code",
   "execution_count": 56,
   "id": "9b793676-6d2c-45d4-bfed-223b1d9e49a8",
   "metadata": {
    "tags": []
   },
   "outputs": [],
   "source": [
    "training, left_train, right_train = scale_dataset(training, oversample=True)\n",
    "validierung, left_valid, right_valid = scale_dataset(validierung, oversample=False)\n",
    "test, left_test, right_test = scale_dataset(test, oversample=False)"
   ]
  },
  {
   "cell_type": "markdown",
   "id": "0c0ed2a1-ca48-4e01-b53a-17f690e21247",
   "metadata": {
    "tags": []
   },
   "source": [
    "## Verschiedene einfache Algorithmen"
   ]
  },
  {
   "cell_type": "markdown",
   "id": "24ac7b86-6bda-4df7-946a-996ac0c6a348",
   "metadata": {},
   "source": [
    "k-nearest-neighbors (kNN)\n",
    "- 2 Informationen, Daten sind klassifiziert auf dem Graph\n",
    "- Jetzt kommt ein neuer Punkt ohne Klasse\n",
    "    - Dieser Punkt soll jetzt klassifiziert werden\n",
    "- Anhand der nähesten Nachbarn wird die Information ergänzt (Anz. Nachbarn: K-Wert)\n",
    "- K-Wert muss ungerade sein (keine Unentschieden möglich)\n",
    "- Auch mit mehr als 2 Dimensionen möglich"
   ]
  },
  {
   "cell_type": "code",
   "execution_count": 65,
   "id": "20ed7446-19d2-4767-a76f-ea98dbba9e03",
   "metadata": {
    "tags": []
   },
   "outputs": [],
   "source": [
    "from sklearn.metrics import classification_report"
   ]
  },
  {
   "cell_type": "code",
   "execution_count": 58,
   "id": "5b291460-d0b3-42c9-aca9-2feaf0d87d8b",
   "metadata": {
    "tags": []
   },
   "outputs": [],
   "source": [
    "from sklearn.neighbors import KNeighborsClassifier"
   ]
  },
  {
   "cell_type": "code",
   "execution_count": 60,
   "id": "ffe1a1c7-79fe-492f-89a2-7d8253eef3d2",
   "metadata": {
    "tags": []
   },
   "outputs": [
    {
     "data": {
      "text/html": [
       "<style>#sk-container-id-1 {color: black;background-color: white;}#sk-container-id-1 pre{padding: 0;}#sk-container-id-1 div.sk-toggleable {background-color: white;}#sk-container-id-1 label.sk-toggleable__label {cursor: pointer;display: block;width: 100%;margin-bottom: 0;padding: 0.3em;box-sizing: border-box;text-align: center;}#sk-container-id-1 label.sk-toggleable__label-arrow:before {content: \"▸\";float: left;margin-right: 0.25em;color: #696969;}#sk-container-id-1 label.sk-toggleable__label-arrow:hover:before {color: black;}#sk-container-id-1 div.sk-estimator:hover label.sk-toggleable__label-arrow:before {color: black;}#sk-container-id-1 div.sk-toggleable__content {max-height: 0;max-width: 0;overflow: hidden;text-align: left;background-color: #f0f8ff;}#sk-container-id-1 div.sk-toggleable__content pre {margin: 0.2em;color: black;border-radius: 0.25em;background-color: #f0f8ff;}#sk-container-id-1 input.sk-toggleable__control:checked~div.sk-toggleable__content {max-height: 200px;max-width: 100%;overflow: auto;}#sk-container-id-1 input.sk-toggleable__control:checked~label.sk-toggleable__label-arrow:before {content: \"▾\";}#sk-container-id-1 div.sk-estimator input.sk-toggleable__control:checked~label.sk-toggleable__label {background-color: #d4ebff;}#sk-container-id-1 div.sk-label input.sk-toggleable__control:checked~label.sk-toggleable__label {background-color: #d4ebff;}#sk-container-id-1 input.sk-hidden--visually {border: 0;clip: rect(1px 1px 1px 1px);clip: rect(1px, 1px, 1px, 1px);height: 1px;margin: -1px;overflow: hidden;padding: 0;position: absolute;width: 1px;}#sk-container-id-1 div.sk-estimator {font-family: monospace;background-color: #f0f8ff;border: 1px dotted black;border-radius: 0.25em;box-sizing: border-box;margin-bottom: 0.5em;}#sk-container-id-1 div.sk-estimator:hover {background-color: #d4ebff;}#sk-container-id-1 div.sk-parallel-item::after {content: \"\";width: 100%;border-bottom: 1px solid gray;flex-grow: 1;}#sk-container-id-1 div.sk-label:hover label.sk-toggleable__label {background-color: #d4ebff;}#sk-container-id-1 div.sk-serial::before {content: \"\";position: absolute;border-left: 1px solid gray;box-sizing: border-box;top: 0;bottom: 0;left: 50%;z-index: 0;}#sk-container-id-1 div.sk-serial {display: flex;flex-direction: column;align-items: center;background-color: white;padding-right: 0.2em;padding-left: 0.2em;position: relative;}#sk-container-id-1 div.sk-item {position: relative;z-index: 1;}#sk-container-id-1 div.sk-parallel {display: flex;align-items: stretch;justify-content: center;background-color: white;position: relative;}#sk-container-id-1 div.sk-item::before, #sk-container-id-1 div.sk-parallel-item::before {content: \"\";position: absolute;border-left: 1px solid gray;box-sizing: border-box;top: 0;bottom: 0;left: 50%;z-index: -1;}#sk-container-id-1 div.sk-parallel-item {display: flex;flex-direction: column;z-index: 1;position: relative;background-color: white;}#sk-container-id-1 div.sk-parallel-item:first-child::after {align-self: flex-end;width: 50%;}#sk-container-id-1 div.sk-parallel-item:last-child::after {align-self: flex-start;width: 50%;}#sk-container-id-1 div.sk-parallel-item:only-child::after {width: 0;}#sk-container-id-1 div.sk-dashed-wrapped {border: 1px dashed gray;margin: 0 0.4em 0.5em 0.4em;box-sizing: border-box;padding-bottom: 0.4em;background-color: white;}#sk-container-id-1 div.sk-label label {font-family: monospace;font-weight: bold;display: inline-block;line-height: 1.2em;}#sk-container-id-1 div.sk-label-container {text-align: center;}#sk-container-id-1 div.sk-container {/* jupyter's `normalize.less` sets `[hidden] { display: none; }` but bootstrap.min.css set `[hidden] { display: none !important; }` so we also need the `!important` here to be able to override the default hidden behavior on the sphinx rendered scikit-learn.org. See: https://github.com/scikit-learn/scikit-learn/issues/21755 */display: inline-block !important;position: relative;}#sk-container-id-1 div.sk-text-repr-fallback {display: none;}</style><div id=\"sk-container-id-1\" class=\"sk-top-container\"><div class=\"sk-text-repr-fallback\"><pre>KNeighborsClassifier(n_neighbors=3)</pre><b>In a Jupyter environment, please rerun this cell to show the HTML representation or trust the notebook. <br />On GitHub, the HTML representation is unable to render, please try loading this page with nbviewer.org.</b></div><div class=\"sk-container\" hidden><div class=\"sk-item\"><div class=\"sk-estimator sk-toggleable\"><input class=\"sk-toggleable__control sk-hidden--visually\" id=\"sk-estimator-id-1\" type=\"checkbox\" checked><label for=\"sk-estimator-id-1\" class=\"sk-toggleable__label sk-toggleable__label-arrow\">KNeighborsClassifier</label><div class=\"sk-toggleable__content\"><pre>KNeighborsClassifier(n_neighbors=3)</pre></div></div></div></div></div>"
      ],
      "text/plain": [
       "KNeighborsClassifier(n_neighbors=3)"
      ]
     },
     "execution_count": 60,
     "metadata": {},
     "output_type": "execute_result"
    }
   ],
   "source": [
    "knn_model = KNeighborsClassifier(n_neighbors=3)\n",
    "knn_model.fit(left_train, right_train)"
   ]
  },
  {
   "cell_type": "code",
   "execution_count": 61,
   "id": "f5c321ba-e866-49e8-8ac0-9baf5751fa06",
   "metadata": {
    "tags": []
   },
   "outputs": [],
   "source": [
    "prediction = knn_model.predict(left_test)"
   ]
  },
  {
   "cell_type": "code",
   "execution_count": 67,
   "id": "f0d833e7-b6d4-4305-8cd1-71ce64784a61",
   "metadata": {
    "tags": []
   },
   "outputs": [
    {
     "name": "stdout",
     "output_type": "stream",
     "text": [
      "              precision    recall  f1-score   support\n",
      "\n",
      "           0       0.72      0.74      0.73      1300\n",
      "           1       0.86      0.85      0.86      2504\n",
      "\n",
      "    accuracy                           0.81      3804\n",
      "   macro avg       0.79      0.80      0.79      3804\n",
      "weighted avg       0.81      0.81      0.81      3804\n",
      "\n"
     ]
    }
   ],
   "source": [
    "print(classification_report(right_test, prediction))"
   ]
  },
  {
   "cell_type": "markdown",
   "id": "71c738e9-5c9c-4239-bf3f-3bf0581ccc1f",
   "metadata": {},
   "source": [
    "## Naive Bayes\n",
    "- Klassifizierungen und Tabellen\n",
    "- Wahrscheinlichkeiten von den Tabellen\n",
    "- Durchschnitt von allen Wahrscheinlichkeiten berechen und dann den Mittelwert nehmen\n",
    "- Das Ergebnis mit 50% vergleichen"
   ]
  },
  {
   "cell_type": "code",
   "execution_count": 68,
   "id": "1e36168d-f1e3-4419-9fb7-d60a8470abf0",
   "metadata": {
    "tags": []
   },
   "outputs": [],
   "source": [
    "from sklearn.naive_bayes import GaussianNB"
   ]
  },
  {
   "cell_type": "code",
   "execution_count": 69,
   "id": "f5a956ce-ca01-4b96-85d3-eee490f22f66",
   "metadata": {
    "tags": []
   },
   "outputs": [],
   "source": [
    "nb_model = GaussianNB()\n",
    "nb_model = nb_model.fit(left_train, right_train)"
   ]
  },
  {
   "cell_type": "code",
   "execution_count": 70,
   "id": "d4c6dc15-b1fa-4bc9-9794-aa183eb37205",
   "metadata": {
    "tags": []
   },
   "outputs": [],
   "source": [
    "prediction = nb_model.predict(left_test)"
   ]
  },
  {
   "cell_type": "code",
   "execution_count": 72,
   "id": "0025b5ef-75d7-4c80-9b80-4226380cb87b",
   "metadata": {
    "tags": []
   },
   "outputs": [
    {
     "name": "stdout",
     "output_type": "stream",
     "text": [
      "              precision    recall  f1-score   support\n",
      "\n",
      "           0       0.69      0.42      0.53      1300\n",
      "           1       0.75      0.90      0.82      2504\n",
      "\n",
      "    accuracy                           0.74      3804\n",
      "   macro avg       0.72      0.66      0.67      3804\n",
      "weighted avg       0.73      0.74      0.72      3804\n",
      "\n"
     ]
    }
   ],
   "source": [
    "print(classification_report(right_test, prediction))"
   ]
  },
  {
   "cell_type": "markdown",
   "id": "6f078e69-f9c2-481f-adda-c58c70e3f41b",
   "metadata": {},
   "source": [
    "## Logistische Regression\n",
    "\n",
    "Die Datenpunkte werden bei 0 und 1 platziert.\n",
    "\n",
    "Danach wird eine S-Kurve berechnet und danach wird einfach geschaut ob der neue Datenpunkt über oder unter der Mitellinie ist."
   ]
  },
  {
   "cell_type": "code",
   "execution_count": 73,
   "id": "e9c4a1f3-0eb2-4009-8584-c3d6f1c5570b",
   "metadata": {
    "tags": []
   },
   "outputs": [],
   "source": [
    "from sklearn.linear_model import LogisticRegression"
   ]
  },
  {
   "cell_type": "code",
   "execution_count": 74,
   "id": "7ac6a100-6cd7-4def-b50f-3e7735716809",
   "metadata": {
    "tags": []
   },
   "outputs": [],
   "source": [
    "lr_model = LogisticRegression()\n",
    "lr_model = lr_model.fit(left_train, right_train)"
   ]
  },
  {
   "cell_type": "code",
   "execution_count": 75,
   "id": "092af38f-7fa6-4d2a-929f-d82813e2e76a",
   "metadata": {
    "tags": []
   },
   "outputs": [],
   "source": [
    "prediction = lr_model.predict(left_test)"
   ]
  },
  {
   "cell_type": "code",
   "execution_count": 77,
   "id": "b5405e3b-7e91-4919-9809-d080aab22bb9",
   "metadata": {
    "tags": []
   },
   "outputs": [
    {
     "name": "stdout",
     "output_type": "stream",
     "text": [
      "              precision    recall  f1-score   support\n",
      "\n",
      "           0       0.68      0.75      0.71      1300\n",
      "           1       0.86      0.82      0.84      2504\n",
      "\n",
      "    accuracy                           0.79      3804\n",
      "   macro avg       0.77      0.78      0.78      3804\n",
      "weighted avg       0.80      0.79      0.80      3804\n",
      "\n"
     ]
    }
   ],
   "source": [
    "print(classification_report(right_test, prediction))"
   ]
  },
  {
   "cell_type": "markdown",
   "id": "01bfc769-e324-4809-ac5e-e1e760ed323c",
   "metadata": {
    "tags": []
   },
   "source": [
    "## Support Vector Machines\n",
    "\n",
    "- Suche den nähesten Punkt links und rechts des Vektors und berechne die Distanz zum Mittelvektor von beiden Punkten\n",
    "- Neuer Punkt wird eingefügt\n",
    "- Äußerer Vektor wird dann wieder verschoben"
   ]
  },
  {
   "cell_type": "code",
   "execution_count": 79,
   "id": "4716a4c4-fad3-47d1-97b0-11007211c2f2",
   "metadata": {
    "tags": []
   },
   "outputs": [],
   "source": [
    "from sklearn.svm import SVC"
   ]
  },
  {
   "cell_type": "code",
   "execution_count": 80,
   "id": "b1557806-95ee-4d9b-a250-0c790983a683",
   "metadata": {
    "tags": []
   },
   "outputs": [],
   "source": [
    "svm_model = SVC()\n",
    "svm_model = svm_model.fit(left_train, right_train)"
   ]
  },
  {
   "cell_type": "code",
   "execution_count": 81,
   "id": "c7834e29-8470-4d1b-bf8c-a5465d30071f",
   "metadata": {
    "tags": []
   },
   "outputs": [],
   "source": [
    "prediction = svm_model.predict(left_test)"
   ]
  },
  {
   "cell_type": "code",
   "execution_count": 82,
   "id": "6c2625d3-3572-4614-8176-72d45a9b7378",
   "metadata": {
    "tags": []
   },
   "outputs": [
    {
     "name": "stdout",
     "output_type": "stream",
     "text": [
      "              precision    recall  f1-score   support\n",
      "\n",
      "           0       0.79      0.81      0.80      1300\n",
      "           1       0.90      0.89      0.90      2504\n",
      "\n",
      "    accuracy                           0.86      3804\n",
      "   macro avg       0.85      0.85      0.85      3804\n",
      "weighted avg       0.86      0.86      0.86      3804\n",
      "\n"
     ]
    }
   ],
   "source": [
    "print(classification_report(right_test, prediction))"
   ]
  },
  {
   "cell_type": "markdown",
   "id": "bb9b8cf4-a553-4497-adaa-e754eb143915",
   "metadata": {},
   "source": [
    "## Neurales Netzwerk\n",
    "\n",
    "Wir können jetzt anstatt von vordefinierten Modell ein eigenes Modell erstellen mittels Tensorflow."
   ]
  },
  {
   "cell_type": "code",
   "execution_count": 84,
   "id": "e83074ae-d43c-461d-aba1-2f15992ec7b6",
   "metadata": {
    "tags": []
   },
   "outputs": [],
   "source": [
    "import tensorflow as tf"
   ]
  },
  {
   "cell_type": "code",
   "execution_count": 87,
   "id": "9c13bcad-43df-48e2-82c8-febb6aa44ca1",
   "metadata": {
    "collapsed": true,
    "jupyter": {
     "outputs_hidden": true
    },
    "tags": []
   },
   "outputs": [
    {
     "name": "stdout",
     "output_type": "stream",
     "text": [
      "Model: \"sequential_2\"\n",
      "_________________________________________________________________\n",
      " Layer (type)                Output Shape              Param #   \n",
      "=================================================================\n",
      " dense_6 (Dense)             (None, 32)                352       \n",
      "                                                                 \n",
      " dense_7 (Dense)             (None, 32)                1056      \n",
      "                                                                 \n",
      " dense_8 (Dense)             (None, 1)                 33        \n",
      "                                                                 \n",
      "=================================================================\n",
      "Total params: 1,441\n",
      "Trainable params: 1,441\n",
      "Non-trainable params: 0\n",
      "_________________________________________________________________\n"
     ]
    }
   ],
   "source": [
    "#model = Sequential()\n",
    "#model.add()\n",
    "\n",
    "model = tf.keras.Sequential([\n",
    "    tf.keras.layers.Dense(32, activation=\"relu\", input_shape=(10,)),  # 10 = Anzahl Spalten unserer Daten\n",
    "    # Rectified Linear Unit: Machine Learning Funktionen sollten generell einen Wert zw. 0 und 1 geben\n",
    "    # Sigmoid und TanH sind beliebt\n",
    "    # ReLU bietet sich hier an, weil sie simpel ist (weil linear) und dadurch günstig\n",
    "    tf.keras.layers.Dense(32, activation=\"relu\"),  # input_shape kommt hier vom vorherigen Layer\n",
    "    tf.keras.layers.Dense(1, activation=\"sigmoid\")\n",
    "])\n",
    "\n",
    "model.compile(optimizer=tf.keras.optimizers.Adam(0.001), # Lernrate hier angeben  # Adam optimization is a stochastic gradient descent method that is based on adaptive estimation of first-order and second-order moments.\n",
    "              loss=\"binary_crossentropy\",  # Für einen Binäroutput\n",
    "              metrics=[\"accuracy\"])  # Accuracy messen"
   ]
  },
  {
   "cell_type": "code",
   "execution_count": 88,
   "id": "c7096349-58cc-425f-95ea-a9d686fa21e8",
   "metadata": {
    "tags": []
   },
   "outputs": [
    {
     "name": "stdout",
     "output_type": "stream",
     "text": [
      "Model: \"sequential_2\"\n",
      "_________________________________________________________________\n",
      " Layer (type)                Output Shape              Param #   \n",
      "=================================================================\n",
      " dense_6 (Dense)             (None, 32)                352       \n",
      "                                                                 \n",
      " dense_7 (Dense)             (None, 32)                1056      \n",
      "                                                                 \n",
      " dense_8 (Dense)             (None, 1)                 33        \n",
      "                                                                 \n",
      "=================================================================\n",
      "Total params: 1,441\n",
      "Trainable params: 1,441\n",
      "Non-trainable params: 0\n",
      "_________________________________________________________________\n"
     ]
    }
   ],
   "source": [
    "model.summary()"
   ]
  },
  {
   "cell_type": "code",
   "execution_count": 89,
   "id": "c8297dee-45db-46b4-82bc-e45d2eb58073",
   "metadata": {
    "collapsed": true,
    "jupyter": {
     "outputs_hidden": true
    },
    "tags": []
   },
   "outputs": [
    {
     "name": "stdout",
     "output_type": "stream",
     "text": [
      "Epoch 1/100\n",
      "918/918 [==============================] - 2s 1ms/step - loss: 0.4382 - accuracy: 0.7955\n",
      "Epoch 2/100\n",
      "918/918 [==============================] - 1s 1ms/step - loss: 0.3808 - accuracy: 0.8310\n",
      "Epoch 3/100\n",
      "918/918 [==============================] - 1s 1ms/step - loss: 0.3651 - accuracy: 0.8413\n",
      "Epoch 4/100\n",
      "918/918 [==============================] - 1s 1ms/step - loss: 0.3553 - accuracy: 0.8455\n",
      "Epoch 5/100\n",
      "918/918 [==============================] - 1s 1ms/step - loss: 0.3483 - accuracy: 0.8476\n",
      "Epoch 6/100\n",
      "918/918 [==============================] - 1s 1ms/step - loss: 0.3425 - accuracy: 0.8500\n",
      "Epoch 7/100\n",
      "918/918 [==============================] - 1s 1ms/step - loss: 0.3376 - accuracy: 0.8524\n",
      "Epoch 8/100\n",
      "918/918 [==============================] - 1s 1ms/step - loss: 0.3351 - accuracy: 0.8554\n",
      "Epoch 9/100\n",
      "918/918 [==============================] - 1s 1ms/step - loss: 0.3314 - accuracy: 0.8556\n",
      "Epoch 10/100\n",
      "918/918 [==============================] - 1s 2ms/step - loss: 0.3290 - accuracy: 0.8563\n",
      "Epoch 11/100\n",
      "918/918 [==============================] - 3s 3ms/step - loss: 0.3254 - accuracy: 0.8558\n",
      "Epoch 12/100\n",
      "918/918 [==============================] - 2s 2ms/step - loss: 0.3232 - accuracy: 0.8577\n",
      "Epoch 13/100\n",
      "918/918 [==============================] - 2s 2ms/step - loss: 0.3209 - accuracy: 0.8595\n",
      "Epoch 14/100\n",
      "918/918 [==============================] - 3s 3ms/step - loss: 0.3187 - accuracy: 0.8600\n",
      "Epoch 15/100\n",
      "918/918 [==============================] - 3s 3ms/step - loss: 0.3161 - accuracy: 0.8596\n",
      "Epoch 16/100\n",
      "918/918 [==============================] - 2s 3ms/step - loss: 0.3141 - accuracy: 0.8604\n",
      "Epoch 17/100\n",
      "918/918 [==============================] - 2s 2ms/step - loss: 0.3130 - accuracy: 0.8598\n",
      "Epoch 18/100\n",
      "918/918 [==============================] - 3s 3ms/step - loss: 0.3118 - accuracy: 0.8618\n",
      "Epoch 19/100\n",
      "918/918 [==============================] - 2s 3ms/step - loss: 0.3097 - accuracy: 0.8612\n",
      "Epoch 20/100\n",
      "918/918 [==============================] - 3s 3ms/step - loss: 0.3081 - accuracy: 0.8623\n",
      "Epoch 21/100\n",
      "918/918 [==============================] - 2s 3ms/step - loss: 0.3077 - accuracy: 0.8639\n",
      "Epoch 22/100\n",
      "918/918 [==============================] - 2s 3ms/step - loss: 0.3054 - accuracy: 0.8631\n",
      "Epoch 23/100\n",
      "918/918 [==============================] - 3s 3ms/step - loss: 0.3042 - accuracy: 0.8645\n",
      "Epoch 24/100\n",
      "918/918 [==============================] - 2s 3ms/step - loss: 0.3022 - accuracy: 0.8662\n",
      "Epoch 25/100\n",
      "918/918 [==============================] - 3s 3ms/step - loss: 0.3019 - accuracy: 0.8663\n",
      "Epoch 26/100\n",
      "918/918 [==============================] - 2s 3ms/step - loss: 0.2997 - accuracy: 0.8670\n",
      "Epoch 27/100\n",
      "918/918 [==============================] - 2s 2ms/step - loss: 0.2995 - accuracy: 0.8676\n",
      "Epoch 28/100\n",
      "918/918 [==============================] - 2s 2ms/step - loss: 0.2989 - accuracy: 0.8680\n",
      "Epoch 29/100\n",
      "918/918 [==============================] - 3s 3ms/step - loss: 0.2973 - accuracy: 0.8690\n",
      "Epoch 30/100\n",
      "918/918 [==============================] - 3s 3ms/step - loss: 0.2965 - accuracy: 0.8681\n",
      "Epoch 31/100\n",
      "918/918 [==============================] - 3s 3ms/step - loss: 0.2952 - accuracy: 0.8717\n",
      "Epoch 32/100\n",
      "918/918 [==============================] - 3s 3ms/step - loss: 0.2948 - accuracy: 0.8682\n",
      "Epoch 33/100\n",
      "918/918 [==============================] - 3s 3ms/step - loss: 0.2947 - accuracy: 0.8697\n",
      "Epoch 34/100\n",
      "918/918 [==============================] - 3s 3ms/step - loss: 0.2929 - accuracy: 0.8720\n",
      "Epoch 35/100\n",
      "918/918 [==============================] - 3s 4ms/step - loss: 0.2931 - accuracy: 0.8676\n",
      "Epoch 36/100\n",
      "918/918 [==============================] - 3s 3ms/step - loss: 0.2916 - accuracy: 0.8703\n",
      "Epoch 37/100\n",
      "918/918 [==============================] - 3s 4ms/step - loss: 0.2896 - accuracy: 0.8714\n",
      "Epoch 38/100\n",
      "918/918 [==============================] - 3s 3ms/step - loss: 0.2891 - accuracy: 0.8714\n",
      "Epoch 39/100\n",
      "918/918 [==============================] - 3s 3ms/step - loss: 0.2890 - accuracy: 0.8739\n",
      "Epoch 40/100\n",
      "918/918 [==============================] - 3s 3ms/step - loss: 0.2888 - accuracy: 0.8715\n",
      "Epoch 41/100\n",
      "918/918 [==============================] - 3s 3ms/step - loss: 0.2877 - accuracy: 0.8729\n",
      "Epoch 42/100\n",
      "918/918 [==============================] - 3s 3ms/step - loss: 0.2870 - accuracy: 0.8725\n",
      "Epoch 43/100\n",
      "918/918 [==============================] - 3s 3ms/step - loss: 0.2853 - accuracy: 0.8739\n",
      "Epoch 44/100\n",
      "918/918 [==============================] - 3s 4ms/step - loss: 0.2855 - accuracy: 0.8728\n",
      "Epoch 45/100\n",
      "918/918 [==============================] - 3s 4ms/step - loss: 0.2857 - accuracy: 0.8716\n",
      "Epoch 46/100\n",
      "918/918 [==============================] - 3s 4ms/step - loss: 0.2841 - accuracy: 0.8753\n",
      "Epoch 47/100\n",
      "918/918 [==============================] - 4s 4ms/step - loss: 0.2830 - accuracy: 0.8748\n",
      "Epoch 48/100\n",
      "918/918 [==============================] - 4s 4ms/step - loss: 0.2825 - accuracy: 0.8773\n",
      "Epoch 49/100\n",
      "918/918 [==============================] - 3s 4ms/step - loss: 0.2814 - accuracy: 0.8761\n",
      "Epoch 50/100\n",
      "918/918 [==============================] - 3s 4ms/step - loss: 0.2816 - accuracy: 0.8755\n",
      "Epoch 51/100\n",
      "918/918 [==============================] - 3s 4ms/step - loss: 0.2812 - accuracy: 0.8775\n",
      "Epoch 52/100\n",
      "918/918 [==============================] - 4s 5ms/step - loss: 0.2806 - accuracy: 0.8767\n",
      "Epoch 53/100\n",
      "918/918 [==============================] - 4s 4ms/step - loss: 0.2802 - accuracy: 0.8763\n",
      "Epoch 54/100\n",
      "918/918 [==============================] - 4s 4ms/step - loss: 0.2791 - accuracy: 0.8776\n",
      "Epoch 55/100\n",
      "918/918 [==============================] - 4s 4ms/step - loss: 0.2784 - accuracy: 0.8769\n",
      "Epoch 56/100\n",
      "918/918 [==============================] - 4s 4ms/step - loss: 0.2780 - accuracy: 0.8776\n",
      "Epoch 57/100\n",
      "918/918 [==============================] - 4s 4ms/step - loss: 0.2778 - accuracy: 0.8763\n",
      "Epoch 58/100\n",
      "918/918 [==============================] - 3s 4ms/step - loss: 0.2772 - accuracy: 0.8793\n",
      "Epoch 59/100\n",
      "918/918 [==============================] - 4s 4ms/step - loss: 0.2769 - accuracy: 0.8761\n",
      "Epoch 60/100\n",
      "918/918 [==============================] - 4s 4ms/step - loss: 0.2765 - accuracy: 0.8779\n",
      "Epoch 61/100\n",
      "918/918 [==============================] - 3s 4ms/step - loss: 0.2759 - accuracy: 0.8802\n",
      "Epoch 62/100\n",
      "918/918 [==============================] - 3s 4ms/step - loss: 0.2749 - accuracy: 0.8798\n",
      "Epoch 63/100\n",
      "918/918 [==============================] - 3s 4ms/step - loss: 0.2750 - accuracy: 0.8782\n",
      "Epoch 64/100\n",
      "918/918 [==============================] - 3s 4ms/step - loss: 0.2751 - accuracy: 0.8791\n",
      "Epoch 65/100\n",
      "918/918 [==============================] - 3s 4ms/step - loss: 0.2735 - accuracy: 0.8799\n",
      "Epoch 66/100\n",
      "918/918 [==============================] - 4s 4ms/step - loss: 0.2733 - accuracy: 0.8811\n",
      "Epoch 67/100\n",
      "918/918 [==============================] - 3s 4ms/step - loss: 0.2735 - accuracy: 0.8791\n",
      "Epoch 68/100\n",
      "918/918 [==============================] - 3s 4ms/step - loss: 0.2720 - accuracy: 0.8824\n",
      "Epoch 69/100\n",
      "918/918 [==============================] - 4s 4ms/step - loss: 0.2727 - accuracy: 0.8811\n",
      "Epoch 70/100\n",
      "918/918 [==============================] - 4s 4ms/step - loss: 0.2715 - accuracy: 0.8797\n",
      "Epoch 71/100\n",
      "918/918 [==============================] - 3s 4ms/step - loss: 0.2718 - accuracy: 0.8799\n",
      "Epoch 72/100\n",
      "918/918 [==============================] - 3s 4ms/step - loss: 0.2711 - accuracy: 0.8803\n",
      "Epoch 73/100\n",
      "918/918 [==============================] - 3s 4ms/step - loss: 0.2690 - accuracy: 0.8837\n",
      "Epoch 74/100\n",
      "918/918 [==============================] - 3s 4ms/step - loss: 0.2702 - accuracy: 0.8818\n",
      "Epoch 75/100\n",
      "918/918 [==============================] - 3s 4ms/step - loss: 0.2696 - accuracy: 0.8800\n",
      "Epoch 76/100\n",
      "918/918 [==============================] - 3s 4ms/step - loss: 0.2679 - accuracy: 0.8841\n",
      "Epoch 77/100\n",
      "918/918 [==============================] - 4s 4ms/step - loss: 0.2680 - accuracy: 0.8813\n",
      "Epoch 78/100\n",
      "918/918 [==============================] - 3s 4ms/step - loss: 0.2677 - accuracy: 0.8836\n",
      "Epoch 79/100\n",
      "918/918 [==============================] - 3s 4ms/step - loss: 0.2681 - accuracy: 0.8827\n",
      "Epoch 80/100\n",
      "918/918 [==============================] - 3s 4ms/step - loss: 0.2666 - accuracy: 0.8841\n",
      "Epoch 81/100\n",
      "918/918 [==============================] - 3s 4ms/step - loss: 0.2658 - accuracy: 0.8833\n",
      "Epoch 82/100\n",
      "918/918 [==============================] - 3s 4ms/step - loss: 0.2651 - accuracy: 0.8835\n",
      "Epoch 83/100\n",
      "918/918 [==============================] - 3s 4ms/step - loss: 0.2654 - accuracy: 0.8833\n",
      "Epoch 84/100\n",
      "918/918 [==============================] - 3s 4ms/step - loss: 0.2654 - accuracy: 0.8851\n",
      "Epoch 85/100\n",
      "918/918 [==============================] - 3s 4ms/step - loss: 0.2655 - accuracy: 0.8844\n",
      "Epoch 86/100\n",
      "918/918 [==============================] - 4s 4ms/step - loss: 0.2642 - accuracy: 0.8848\n",
      "Epoch 87/100\n",
      "918/918 [==============================] - 3s 4ms/step - loss: 0.2649 - accuracy: 0.8838\n",
      "Epoch 88/100\n",
      "918/918 [==============================] - 3s 4ms/step - loss: 0.2645 - accuracy: 0.8844\n",
      "Epoch 89/100\n",
      "918/918 [==============================] - 4s 4ms/step - loss: 0.2633 - accuracy: 0.8835\n",
      "Epoch 90/100\n",
      "918/918 [==============================] - 3s 4ms/step - loss: 0.2626 - accuracy: 0.8839\n",
      "Epoch 91/100\n",
      "918/918 [==============================] - 3s 4ms/step - loss: 0.2619 - accuracy: 0.8845\n",
      "Epoch 92/100\n",
      "918/918 [==============================] - 3s 4ms/step - loss: 0.2639 - accuracy: 0.8846\n",
      "Epoch 93/100\n",
      "918/918 [==============================] - 4s 4ms/step - loss: 0.2624 - accuracy: 0.8866\n",
      "Epoch 94/100\n",
      "918/918 [==============================] - 4s 4ms/step - loss: 0.2622 - accuracy: 0.8866\n",
      "Epoch 95/100\n",
      "918/918 [==============================] - 4s 4ms/step - loss: 0.2616 - accuracy: 0.8862\n",
      "Epoch 96/100\n",
      "918/918 [==============================] - 3s 4ms/step - loss: 0.2609 - accuracy: 0.8848\n",
      "Epoch 97/100\n",
      "918/918 [==============================] - 4s 4ms/step - loss: 0.2598 - accuracy: 0.8851\n",
      "Epoch 98/100\n",
      "918/918 [==============================] - 3s 4ms/step - loss: 0.2606 - accuracy: 0.8865\n",
      "Epoch 99/100\n",
      "918/918 [==============================] - 4s 4ms/step - loss: 0.2600 - accuracy: 0.8874\n",
      "Epoch 100/100\n",
      "918/918 [==============================] - 4s 4ms/step - loss: 0.2601 - accuracy: 0.8864\n"
     ]
    }
   ],
   "source": [
    "history = model.fit(left_train, right_train,\n",
    "          epochs=100,  # Anzahl Durchläufe\n",
    "          batch_size=16,  # Anzahl Teile die per Durchlauf separat behandelt werden\n",
    "          verbose=1)  # Output Ja/Nein"
   ]
  },
  {
   "cell_type": "code",
   "execution_count": 97,
   "id": "f39dee9d-95e3-4ccf-86f0-03376925723c",
   "metadata": {
    "tags": []
   },
   "outputs": [
    {
     "data": {
      "image/png": "[encoded data removed]",
      "text/plain": [
       "<Figure size 640x480 with 1 Axes>"
      ]
     },
     "metadata": {},
     "output_type": "display_data"
    },
    {
     "data": {
      "image/png": "[encoded data removed]",
      "text/plain": [
       "<Figure size 640x480 with 1 Axes>"
      ]
     },
     "metadata": {},
     "output_type": "display_data"
    }
   ],
   "source": [
    "plt.plot(history.history[\"loss\"])\n",
    "plt.grid(True)\n",
    "plt.show()\n",
    "\n",
    "plt.plot(history.history[\"accuracy\"])\n",
    "plt.grid(True)"
   ]
  },
  {
   "cell_type": "code",
   "execution_count": 98,
   "id": "51ff5a84-57b8-49a0-8bb7-ba90c6bd6166",
   "metadata": {
    "tags": []
   },
   "outputs": [
    {
     "name": "stdout",
     "output_type": "stream",
     "text": [
      "119/119 [==============================] - 0s 1ms/step - loss: 0.3335 - accuracy: 0.8559\n"
     ]
    },
    {
     "data": {
      "text/plain": [
       "[0.3335185647010803, 0.855941116809845]"
      ]
     },
     "execution_count": 98,
     "metadata": {},
     "output_type": "execute_result"
    }
   ],
   "source": [
    "model.evaluate(left_valid, right_valid)  # Neue Daten für das Modell (Loss & Accuracy sind schlechter, weil neue Daten)"
   ]
  },
  {
   "cell_type": "code",
   "execution_count": 114,
   "id": "18353f08-98d0-4f9b-9ce2-cfc2f8e301fa",
   "metadata": {
    "tags": []
   },
   "outputs": [
    {
     "name": "stdout",
     "output_type": "stream",
     "text": [
      "119/119 [==============================] - 0s 1ms/step\n",
      "1    2450\n",
      "0    1354\n",
      "Name: Prediction, dtype: int64\n",
      "1    2504\n",
      "0    1300\n",
      "Name: Actual, dtype: int64\n",
      "% 1: 0.9601181683899557\n",
      "% 0: 0.9784345047923323\n"
     ]
    }
   ],
   "source": [
    "prediction = model.predict(left_test)  # Kommazahlen zwischen 0 und 1, >= 0.5 -> 1, < 0.5 -> 0\n",
    "left_real = pd.DataFrame(left_test)\n",
    "left_real[\"Prediction\"] = (prediction >= 0.5).astype(int).reshape(-1)\n",
    "left_real[\"Actual\"] = right_test\n",
    "\n",
    "pred_count = left_real[\"Prediction\"].value_counts()\n",
    "print(pred_count)\n",
    "\n",
    "actual_count = left_real[\"Actual\"].value_counts()\n",
    "print(actual_count)\n",
    "\n",
    "print(f\"% 1: {np.power(pred_count[0] / actual_count[0], -1)}\")  # Prozente berechnen\n",
    "print(f\"% 0: {pred_count[1] / actual_count[1]}\")"
   ]
  },
  {
   "cell_type": "code",
   "execution_count": null,
   "id": "17e4623c-33b3-40e6-8636-79392de54801",
   "metadata": {},
   "outputs": [],
   "source": []
  }
 ],
 "metadata": {
  "kernelspec": {
   "display_name": "Python 3 (ipykernel)",
   "language": "python",
   "name": "python3"
  },
  "language_info": {
   "codemirror_mode": {
    "name": "ipython",
    "version": 3
   },
   "file_extension": ".py",
   "mimetype": "text/x-python",
   "name": "python",
   "nbconvert_exporter": "python",
   "pygments_lexer": "ipython3",
   "version": "3.10.6"
  }
 },
 "nbformat": 4,
 "nbformat_minor": 5
}
